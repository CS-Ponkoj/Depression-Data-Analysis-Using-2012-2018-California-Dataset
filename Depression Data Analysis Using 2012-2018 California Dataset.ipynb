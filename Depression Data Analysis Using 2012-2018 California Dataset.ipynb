{
 "cells": [
  {
   "cell_type": "code",
   "execution_count": 75,
   "metadata": {},
   "outputs": [],
   "source": [
    "%matplotlib notebook\n",
    "import pandas as pd\n",
    "import numpy as np\n",
    "import matplotlib.pyplot as plt\n",
    "import seaborn as sns\n",
    "import plotly.express as px"
   ]
  },
  {
   "cell_type": "code",
   "execution_count": 76,
   "metadata": {},
   "outputs": [],
   "source": [
    "df = pd.read_csv(\"E:\\Protfolio\\Depression Data Analysis Using 2012-2018 California Dataset/adult-depression-lghc-indicator-24.csv\")"
   ]
  },
  {
   "cell_type": "code",
   "execution_count": 77,
   "metadata": {},
   "outputs": [
    {
     "data": {
      "text/html": [
       "<div>\n",
       "<style scoped>\n",
       "    .dataframe tbody tr th:only-of-type {\n",
       "        vertical-align: middle;\n",
       "    }\n",
       "\n",
       "    .dataframe tbody tr th {\n",
       "        vertical-align: top;\n",
       "    }\n",
       "\n",
       "    .dataframe thead th {\n",
       "        text-align: right;\n",
       "    }\n",
       "</style>\n",
       "<table border=\"1\" class=\"dataframe\">\n",
       "  <thead>\n",
       "    <tr style=\"text-align: right;\">\n",
       "      <th></th>\n",
       "      <th>Year</th>\n",
       "      <th>Strata</th>\n",
       "      <th>Strata Name</th>\n",
       "      <th>Frequency</th>\n",
       "      <th>Weighted Frequency</th>\n",
       "      <th>Percent</th>\n",
       "      <th>Lower 95% CL</th>\n",
       "      <th>Upper 95% CL</th>\n",
       "    </tr>\n",
       "  </thead>\n",
       "  <tbody>\n",
       "    <tr>\n",
       "      <th>0</th>\n",
       "      <td>2012</td>\n",
       "      <td>Total</td>\n",
       "      <td>Total</td>\n",
       "      <td>1920</td>\n",
       "      <td>NaN</td>\n",
       "      <td>11.74</td>\n",
       "      <td>11.11</td>\n",
       "      <td>12.37</td>\n",
       "    </tr>\n",
       "    <tr>\n",
       "      <th>1</th>\n",
       "      <td>2012</td>\n",
       "      <td>Sex</td>\n",
       "      <td>Male</td>\n",
       "      <td>561</td>\n",
       "      <td>1116664.0</td>\n",
       "      <td>8.12</td>\n",
       "      <td>7.32</td>\n",
       "      <td>8.92</td>\n",
       "    </tr>\n",
       "    <tr>\n",
       "      <th>2</th>\n",
       "      <td>2012</td>\n",
       "      <td>Sex</td>\n",
       "      <td>Female</td>\n",
       "      <td>1359</td>\n",
       "      <td>2163108.0</td>\n",
       "      <td>15.25</td>\n",
       "      <td>14.30</td>\n",
       "      <td>16.20</td>\n",
       "    </tr>\n",
       "    <tr>\n",
       "      <th>3</th>\n",
       "      <td>2012</td>\n",
       "      <td>Race-Ethnicity</td>\n",
       "      <td>White</td>\n",
       "      <td>1314</td>\n",
       "      <td>1806371.0</td>\n",
       "      <td>14.57</td>\n",
       "      <td>13.67</td>\n",
       "      <td>15.46</td>\n",
       "    </tr>\n",
       "    <tr>\n",
       "      <th>4</th>\n",
       "      <td>2012</td>\n",
       "      <td>Race-Ethnicity</td>\n",
       "      <td>Black</td>\n",
       "      <td>97</td>\n",
       "      <td>222022.0</td>\n",
       "      <td>13.54</td>\n",
       "      <td>10.44</td>\n",
       "      <td>16.65</td>\n",
       "    </tr>\n",
       "    <tr>\n",
       "      <th>5</th>\n",
       "      <td>2012</td>\n",
       "      <td>Race-Ethnicity</td>\n",
       "      <td>Hispanic</td>\n",
       "      <td>412</td>\n",
       "      <td>923174.0</td>\n",
       "      <td>9.98</td>\n",
       "      <td>8.91</td>\n",
       "      <td>11.05</td>\n",
       "    </tr>\n",
       "    <tr>\n",
       "      <th>6</th>\n",
       "      <td>2012</td>\n",
       "      <td>Race-Ethnicity</td>\n",
       "      <td>Asian/Pacific Islander</td>\n",
       "      <td>61</td>\n",
       "      <td>220418.0</td>\n",
       "      <td>5.48</td>\n",
       "      <td>3.92</td>\n",
       "      <td>7.03</td>\n",
       "    </tr>\n",
       "    <tr>\n",
       "      <th>7</th>\n",
       "      <td>2012</td>\n",
       "      <td>Race-Ethnicity</td>\n",
       "      <td>Other</td>\n",
       "      <td>36</td>\n",
       "      <td>107786.0</td>\n",
       "      <td>17.34</td>\n",
       "      <td>11.09</td>\n",
       "      <td>23.60</td>\n",
       "    </tr>\n",
       "    <tr>\n",
       "      <th>8</th>\n",
       "      <td>2012</td>\n",
       "      <td>Education</td>\n",
       "      <td>No High School Diploma</td>\n",
       "      <td>282</td>\n",
       "      <td>579047.0</td>\n",
       "      <td>14.43</td>\n",
       "      <td>12.60</td>\n",
       "      <td>16.26</td>\n",
       "    </tr>\n",
       "    <tr>\n",
       "      <th>9</th>\n",
       "      <td>2012</td>\n",
       "      <td>Education</td>\n",
       "      <td>High School Graduate or GED Certificate</td>\n",
       "      <td>337</td>\n",
       "      <td>665672.0</td>\n",
       "      <td>11.44</td>\n",
       "      <td>9.98</td>\n",
       "      <td>12.89</td>\n",
       "    </tr>\n",
       "    <tr>\n",
       "      <th>10</th>\n",
       "      <td>2012</td>\n",
       "      <td>Education</td>\n",
       "      <td>Some College or Tech School</td>\n",
       "      <td>563</td>\n",
       "      <td>947473.0</td>\n",
       "      <td>13.25</td>\n",
       "      <td>11.95</td>\n",
       "      <td>14.55</td>\n",
       "    </tr>\n",
       "    <tr>\n",
       "      <th>11</th>\n",
       "      <td>2012</td>\n",
       "      <td>Education</td>\n",
       "      <td>College Graduate or Post Grad</td>\n",
       "      <td>717</td>\n",
       "      <td>1040822.0</td>\n",
       "      <td>10.00</td>\n",
       "      <td>9.11</td>\n",
       "      <td>10.90</td>\n",
       "    </tr>\n",
       "    <tr>\n",
       "      <th>12</th>\n",
       "      <td>2012</td>\n",
       "      <td>Income</td>\n",
       "      <td>&lt; $20,000</td>\n",
       "      <td>642</td>\n",
       "      <td>1118292.0</td>\n",
       "      <td>16.97</td>\n",
       "      <td>15.42</td>\n",
       "      <td>18.51</td>\n",
       "    </tr>\n",
       "    <tr>\n",
       "      <th>13</th>\n",
       "      <td>2012</td>\n",
       "      <td>Income</td>\n",
       "      <td>$20,000 - $34,999</td>\n",
       "      <td>295</td>\n",
       "      <td>490532.0</td>\n",
       "      <td>12.39</td>\n",
       "      <td>10.67</td>\n",
       "      <td>14.10</td>\n",
       "    </tr>\n",
       "    <tr>\n",
       "      <th>14</th>\n",
       "      <td>2012</td>\n",
       "      <td>Income</td>\n",
       "      <td>$35,000 - $49,999</td>\n",
       "      <td>187</td>\n",
       "      <td>296225.0</td>\n",
       "      <td>9.88</td>\n",
       "      <td>8.16</td>\n",
       "      <td>11.60</td>\n",
       "    </tr>\n",
       "    <tr>\n",
       "      <th>15</th>\n",
       "      <td>2012</td>\n",
       "      <td>Income</td>\n",
       "      <td>$50,000 - $74,999</td>\n",
       "      <td>250</td>\n",
       "      <td>440798.0</td>\n",
       "      <td>12.65</td>\n",
       "      <td>10.82</td>\n",
       "      <td>14.49</td>\n",
       "    </tr>\n",
       "    <tr>\n",
       "      <th>16</th>\n",
       "      <td>2012</td>\n",
       "      <td>Income</td>\n",
       "      <td>$75,000 - $99,999</td>\n",
       "      <td>160</td>\n",
       "      <td>290492.0</td>\n",
       "      <td>10.17</td>\n",
       "      <td>8.26</td>\n",
       "      <td>12.07</td>\n",
       "    </tr>\n",
       "    <tr>\n",
       "      <th>17</th>\n",
       "      <td>2012</td>\n",
       "      <td>Income</td>\n",
       "      <td>$100,000+</td>\n",
       "      <td>270</td>\n",
       "      <td>454444.0</td>\n",
       "      <td>8.31</td>\n",
       "      <td>7.17</td>\n",
       "      <td>9.46</td>\n",
       "    </tr>\n",
       "    <tr>\n",
       "      <th>18</th>\n",
       "      <td>2012</td>\n",
       "      <td>Age</td>\n",
       "      <td>18 to 34</td>\n",
       "      <td>219</td>\n",
       "      <td>705000.0</td>\n",
       "      <td>7.63</td>\n",
       "      <td>6.55</td>\n",
       "      <td>8.72</td>\n",
       "    </tr>\n",
       "    <tr>\n",
       "      <th>19</th>\n",
       "      <td>2012</td>\n",
       "      <td>Age</td>\n",
       "      <td>35 to 44</td>\n",
       "      <td>240</td>\n",
       "      <td>576639.0</td>\n",
       "      <td>11.13</td>\n",
       "      <td>9.57</td>\n",
       "      <td>12.69</td>\n",
       "    </tr>\n",
       "  </tbody>\n",
       "</table>\n",
       "</div>"
      ],
      "text/plain": [
       "    Year          Strata                              Strata Name  Frequency  \\\n",
       "0   2012           Total                                    Total       1920   \n",
       "1   2012             Sex                                     Male        561   \n",
       "2   2012             Sex                                   Female       1359   \n",
       "3   2012  Race-Ethnicity                                    White       1314   \n",
       "4   2012  Race-Ethnicity                                    Black         97   \n",
       "5   2012  Race-Ethnicity                                 Hispanic        412   \n",
       "6   2012  Race-Ethnicity                   Asian/Pacific Islander         61   \n",
       "7   2012  Race-Ethnicity                                    Other         36   \n",
       "8   2012       Education                   No High School Diploma        282   \n",
       "9   2012       Education  High School Graduate or GED Certificate        337   \n",
       "10  2012       Education              Some College or Tech School        563   \n",
       "11  2012       Education            College Graduate or Post Grad        717   \n",
       "12  2012          Income                                < $20,000        642   \n",
       "13  2012          Income                        $20,000 - $34,999        295   \n",
       "14  2012          Income                        $35,000 - $49,999        187   \n",
       "15  2012          Income                        $50,000 - $74,999        250   \n",
       "16  2012          Income                        $75,000 - $99,999        160   \n",
       "17  2012          Income                                $100,000+        270   \n",
       "18  2012             Age                                 18 to 34        219   \n",
       "19  2012             Age                                 35 to 44        240   \n",
       "\n",
       "    Weighted Frequency  Percent  Lower 95% CL  Upper 95% CL  \n",
       "0                  NaN    11.74         11.11         12.37  \n",
       "1            1116664.0     8.12          7.32          8.92  \n",
       "2            2163108.0    15.25         14.30         16.20  \n",
       "3            1806371.0    14.57         13.67         15.46  \n",
       "4             222022.0    13.54         10.44         16.65  \n",
       "5             923174.0     9.98          8.91         11.05  \n",
       "6             220418.0     5.48          3.92          7.03  \n",
       "7             107786.0    17.34         11.09         23.60  \n",
       "8             579047.0    14.43         12.60         16.26  \n",
       "9             665672.0    11.44          9.98         12.89  \n",
       "10            947473.0    13.25         11.95         14.55  \n",
       "11           1040822.0    10.00          9.11         10.90  \n",
       "12           1118292.0    16.97         15.42         18.51  \n",
       "13            490532.0    12.39         10.67         14.10  \n",
       "14            296225.0     9.88          8.16         11.60  \n",
       "15            440798.0    12.65         10.82         14.49  \n",
       "16            290492.0    10.17          8.26         12.07  \n",
       "17            454444.0     8.31          7.17          9.46  \n",
       "18            705000.0     7.63          6.55          8.72  \n",
       "19            576639.0    11.13          9.57         12.69  "
      ]
     },
     "execution_count": 77,
     "metadata": {},
     "output_type": "execute_result"
    }
   ],
   "source": [
    "df.head(20)"
   ]
  },
  {
   "cell_type": "code",
   "execution_count": 78,
   "metadata": {},
   "outputs": [
    {
     "data": {
      "text/html": [
       "<div>\n",
       "<style scoped>\n",
       "    .dataframe tbody tr th:only-of-type {\n",
       "        vertical-align: middle;\n",
       "    }\n",
       "\n",
       "    .dataframe tbody tr th {\n",
       "        vertical-align: top;\n",
       "    }\n",
       "\n",
       "    .dataframe thead th {\n",
       "        text-align: right;\n",
       "    }\n",
       "</style>\n",
       "<table border=\"1\" class=\"dataframe\">\n",
       "  <thead>\n",
       "    <tr style=\"text-align: right;\">\n",
       "      <th></th>\n",
       "      <th>Year</th>\n",
       "      <th>Strata</th>\n",
       "      <th>Frequency</th>\n",
       "      <th>Percent</th>\n",
       "    </tr>\n",
       "  </thead>\n",
       "  <tbody>\n",
       "    <tr>\n",
       "      <th>0</th>\n",
       "      <td>2012</td>\n",
       "      <td>Total</td>\n",
       "      <td>1920</td>\n",
       "      <td>11.74</td>\n",
       "    </tr>\n",
       "    <tr>\n",
       "      <th>1</th>\n",
       "      <td>2012</td>\n",
       "      <td>Sex</td>\n",
       "      <td>561</td>\n",
       "      <td>8.12</td>\n",
       "    </tr>\n",
       "    <tr>\n",
       "      <th>2</th>\n",
       "      <td>2012</td>\n",
       "      <td>Sex</td>\n",
       "      <td>1359</td>\n",
       "      <td>15.25</td>\n",
       "    </tr>\n",
       "    <tr>\n",
       "      <th>3</th>\n",
       "      <td>2012</td>\n",
       "      <td>Race-Ethnicity</td>\n",
       "      <td>1314</td>\n",
       "      <td>14.57</td>\n",
       "    </tr>\n",
       "    <tr>\n",
       "      <th>4</th>\n",
       "      <td>2012</td>\n",
       "      <td>Race-Ethnicity</td>\n",
       "      <td>97</td>\n",
       "      <td>13.54</td>\n",
       "    </tr>\n",
       "    <tr>\n",
       "      <th>5</th>\n",
       "      <td>2012</td>\n",
       "      <td>Race-Ethnicity</td>\n",
       "      <td>412</td>\n",
       "      <td>9.98</td>\n",
       "    </tr>\n",
       "    <tr>\n",
       "      <th>6</th>\n",
       "      <td>2012</td>\n",
       "      <td>Race-Ethnicity</td>\n",
       "      <td>61</td>\n",
       "      <td>5.48</td>\n",
       "    </tr>\n",
       "    <tr>\n",
       "      <th>7</th>\n",
       "      <td>2012</td>\n",
       "      <td>Race-Ethnicity</td>\n",
       "      <td>36</td>\n",
       "      <td>17.34</td>\n",
       "    </tr>\n",
       "    <tr>\n",
       "      <th>8</th>\n",
       "      <td>2012</td>\n",
       "      <td>Education</td>\n",
       "      <td>282</td>\n",
       "      <td>14.43</td>\n",
       "    </tr>\n",
       "    <tr>\n",
       "      <th>9</th>\n",
       "      <td>2012</td>\n",
       "      <td>Education</td>\n",
       "      <td>337</td>\n",
       "      <td>11.44</td>\n",
       "    </tr>\n",
       "  </tbody>\n",
       "</table>\n",
       "</div>"
      ],
      "text/plain": [
       "   Year          Strata  Frequency  Percent\n",
       "0  2012           Total       1920    11.74\n",
       "1  2012             Sex        561     8.12\n",
       "2  2012             Sex       1359    15.25\n",
       "3  2012  Race-Ethnicity       1314    14.57\n",
       "4  2012  Race-Ethnicity         97    13.54\n",
       "5  2012  Race-Ethnicity        412     9.98\n",
       "6  2012  Race-Ethnicity         61     5.48\n",
       "7  2012  Race-Ethnicity         36    17.34\n",
       "8  2012       Education        282    14.43\n",
       "9  2012       Education        337    11.44"
      ]
     },
     "execution_count": 78,
     "metadata": {},
     "output_type": "execute_result"
    }
   ],
   "source": [
    "df=df.drop(['Strata Name', 'Weighted Frequency','Lower 95% CL','Upper 95% CL'],axis=1)\n",
    "df.head(10)"
   ]
  },
  {
   "cell_type": "code",
   "execution_count": 79,
   "metadata": {},
   "outputs": [],
   "source": [
    "year_total=df.loc[df['Strata'] == 'Total']"
   ]
  },
  {
   "cell_type": "code",
   "execution_count": 80,
   "metadata": {},
   "outputs": [
    {
     "data": {
      "text/html": [
       "<div>\n",
       "<style scoped>\n",
       "    .dataframe tbody tr th:only-of-type {\n",
       "        vertical-align: middle;\n",
       "    }\n",
       "\n",
       "    .dataframe tbody tr th {\n",
       "        vertical-align: top;\n",
       "    }\n",
       "\n",
       "    .dataframe thead th {\n",
       "        text-align: right;\n",
       "    }\n",
       "</style>\n",
       "<table border=\"1\" class=\"dataframe\">\n",
       "  <thead>\n",
       "    <tr style=\"text-align: right;\">\n",
       "      <th></th>\n",
       "      <th>Year</th>\n",
       "      <th>Strata</th>\n",
       "      <th>Frequency</th>\n",
       "      <th>Percent</th>\n",
       "    </tr>\n",
       "  </thead>\n",
       "  <tbody>\n",
       "    <tr>\n",
       "      <th>0</th>\n",
       "      <td>2012</td>\n",
       "      <td>Total</td>\n",
       "      <td>1920</td>\n",
       "      <td>11.74</td>\n",
       "    </tr>\n",
       "    <tr>\n",
       "      <th>23</th>\n",
       "      <td>2013</td>\n",
       "      <td>Total</td>\n",
       "      <td>1689</td>\n",
       "      <td>13.08</td>\n",
       "    </tr>\n",
       "    <tr>\n",
       "      <th>46</th>\n",
       "      <td>2014</td>\n",
       "      <td>Total</td>\n",
       "      <td>1309</td>\n",
       "      <td>13.30</td>\n",
       "    </tr>\n",
       "    <tr>\n",
       "      <th>69</th>\n",
       "      <td>2015</td>\n",
       "      <td>Total</td>\n",
       "      <td>1848</td>\n",
       "      <td>12.92</td>\n",
       "    </tr>\n",
       "    <tr>\n",
       "      <th>92</th>\n",
       "      <td>2016</td>\n",
       "      <td>Total</td>\n",
       "      <td>1645</td>\n",
       "      <td>13.77</td>\n",
       "    </tr>\n",
       "    <tr>\n",
       "      <th>115</th>\n",
       "      <td>2017</td>\n",
       "      <td>Total</td>\n",
       "      <td>1550</td>\n",
       "      <td>19.04</td>\n",
       "    </tr>\n",
       "    <tr>\n",
       "      <th>138</th>\n",
       "      <td>2018</td>\n",
       "      <td>Total</td>\n",
       "      <td>1964</td>\n",
       "      <td>17.78</td>\n",
       "    </tr>\n",
       "  </tbody>\n",
       "</table>\n",
       "</div>"
      ],
      "text/plain": [
       "     Year Strata  Frequency  Percent\n",
       "0    2012  Total       1920    11.74\n",
       "23   2013  Total       1689    13.08\n",
       "46   2014  Total       1309    13.30\n",
       "69   2015  Total       1848    12.92\n",
       "92   2016  Total       1645    13.77\n",
       "115  2017  Total       1550    19.04\n",
       "138  2018  Total       1964    17.78"
      ]
     },
     "execution_count": 80,
     "metadata": {},
     "output_type": "execute_result"
    }
   ],
   "source": [
    "year_total"
   ]
  },
  {
   "cell_type": "code",
   "execution_count": 104,
   "metadata": {},
   "outputs": [
    {
     "data": {
      "application/vnd.plotly.v1+json": {
       "config": {
        "plotlyServerURL": "https://plot.ly"
       },
       "data": [
        {
         "domain": {
          "x": [
           0,
           1
          ],
          "y": [
           0,
           1
          ]
         },
         "hovertemplate": "Year=%{label}<br>Frequency=%{value}<extra></extra>",
         "labels": [
          2012,
          2013,
          2014,
          2015,
          2016,
          2017,
          2018
         ],
         "legendgroup": "",
         "name": "",
         "showlegend": true,
         "type": "pie",
         "values": [
          1920,
          1689,
          1309,
          1848,
          1645,
          1550,
          1964
         ]
        }
       ],
       "layout": {
        "legend": {
         "tracegroupgap": 0
        },
        "piecolorway": [
         "#fcfdbf",
         "#feca8d",
         "#fd9668",
         "#f1605d",
         "#cd4071",
         "#9e2f7f",
         "#721f81",
         "#440f76",
         "#180f3d",
         "#000004"
        ],
        "template": {
         "data": {
          "bar": [
           {
            "error_x": {
             "color": "#2a3f5f"
            },
            "error_y": {
             "color": "#2a3f5f"
            },
            "marker": {
             "line": {
              "color": "#E5ECF6",
              "width": 0.5
             }
            },
            "type": "bar"
           }
          ],
          "barpolar": [
           {
            "marker": {
             "line": {
              "color": "#E5ECF6",
              "width": 0.5
             }
            },
            "type": "barpolar"
           }
          ],
          "carpet": [
           {
            "aaxis": {
             "endlinecolor": "#2a3f5f",
             "gridcolor": "white",
             "linecolor": "white",
             "minorgridcolor": "white",
             "startlinecolor": "#2a3f5f"
            },
            "baxis": {
             "endlinecolor": "#2a3f5f",
             "gridcolor": "white",
             "linecolor": "white",
             "minorgridcolor": "white",
             "startlinecolor": "#2a3f5f"
            },
            "type": "carpet"
           }
          ],
          "choropleth": [
           {
            "colorbar": {
             "outlinewidth": 0,
             "ticks": ""
            },
            "type": "choropleth"
           }
          ],
          "contour": [
           {
            "colorbar": {
             "outlinewidth": 0,
             "ticks": ""
            },
            "colorscale": [
             [
              0,
              "#0d0887"
             ],
             [
              0.1111111111111111,
              "#46039f"
             ],
             [
              0.2222222222222222,
              "#7201a8"
             ],
             [
              0.3333333333333333,
              "#9c179e"
             ],
             [
              0.4444444444444444,
              "#bd3786"
             ],
             [
              0.5555555555555556,
              "#d8576b"
             ],
             [
              0.6666666666666666,
              "#ed7953"
             ],
             [
              0.7777777777777778,
              "#fb9f3a"
             ],
             [
              0.8888888888888888,
              "#fdca26"
             ],
             [
              1,
              "#f0f921"
             ]
            ],
            "type": "contour"
           }
          ],
          "contourcarpet": [
           {
            "colorbar": {
             "outlinewidth": 0,
             "ticks": ""
            },
            "type": "contourcarpet"
           }
          ],
          "heatmap": [
           {
            "colorbar": {
             "outlinewidth": 0,
             "ticks": ""
            },
            "colorscale": [
             [
              0,
              "#0d0887"
             ],
             [
              0.1111111111111111,
              "#46039f"
             ],
             [
              0.2222222222222222,
              "#7201a8"
             ],
             [
              0.3333333333333333,
              "#9c179e"
             ],
             [
              0.4444444444444444,
              "#bd3786"
             ],
             [
              0.5555555555555556,
              "#d8576b"
             ],
             [
              0.6666666666666666,
              "#ed7953"
             ],
             [
              0.7777777777777778,
              "#fb9f3a"
             ],
             [
              0.8888888888888888,
              "#fdca26"
             ],
             [
              1,
              "#f0f921"
             ]
            ],
            "type": "heatmap"
           }
          ],
          "heatmapgl": [
           {
            "colorbar": {
             "outlinewidth": 0,
             "ticks": ""
            },
            "colorscale": [
             [
              0,
              "#0d0887"
             ],
             [
              0.1111111111111111,
              "#46039f"
             ],
             [
              0.2222222222222222,
              "#7201a8"
             ],
             [
              0.3333333333333333,
              "#9c179e"
             ],
             [
              0.4444444444444444,
              "#bd3786"
             ],
             [
              0.5555555555555556,
              "#d8576b"
             ],
             [
              0.6666666666666666,
              "#ed7953"
             ],
             [
              0.7777777777777778,
              "#fb9f3a"
             ],
             [
              0.8888888888888888,
              "#fdca26"
             ],
             [
              1,
              "#f0f921"
             ]
            ],
            "type": "heatmapgl"
           }
          ],
          "histogram": [
           {
            "marker": {
             "colorbar": {
              "outlinewidth": 0,
              "ticks": ""
             }
            },
            "type": "histogram"
           }
          ],
          "histogram2d": [
           {
            "colorbar": {
             "outlinewidth": 0,
             "ticks": ""
            },
            "colorscale": [
             [
              0,
              "#0d0887"
             ],
             [
              0.1111111111111111,
              "#46039f"
             ],
             [
              0.2222222222222222,
              "#7201a8"
             ],
             [
              0.3333333333333333,
              "#9c179e"
             ],
             [
              0.4444444444444444,
              "#bd3786"
             ],
             [
              0.5555555555555556,
              "#d8576b"
             ],
             [
              0.6666666666666666,
              "#ed7953"
             ],
             [
              0.7777777777777778,
              "#fb9f3a"
             ],
             [
              0.8888888888888888,
              "#fdca26"
             ],
             [
              1,
              "#f0f921"
             ]
            ],
            "type": "histogram2d"
           }
          ],
          "histogram2dcontour": [
           {
            "colorbar": {
             "outlinewidth": 0,
             "ticks": ""
            },
            "colorscale": [
             [
              0,
              "#0d0887"
             ],
             [
              0.1111111111111111,
              "#46039f"
             ],
             [
              0.2222222222222222,
              "#7201a8"
             ],
             [
              0.3333333333333333,
              "#9c179e"
             ],
             [
              0.4444444444444444,
              "#bd3786"
             ],
             [
              0.5555555555555556,
              "#d8576b"
             ],
             [
              0.6666666666666666,
              "#ed7953"
             ],
             [
              0.7777777777777778,
              "#fb9f3a"
             ],
             [
              0.8888888888888888,
              "#fdca26"
             ],
             [
              1,
              "#f0f921"
             ]
            ],
            "type": "histogram2dcontour"
           }
          ],
          "mesh3d": [
           {
            "colorbar": {
             "outlinewidth": 0,
             "ticks": ""
            },
            "type": "mesh3d"
           }
          ],
          "parcoords": [
           {
            "line": {
             "colorbar": {
              "outlinewidth": 0,
              "ticks": ""
             }
            },
            "type": "parcoords"
           }
          ],
          "pie": [
           {
            "automargin": true,
            "type": "pie"
           }
          ],
          "scatter": [
           {
            "marker": {
             "colorbar": {
              "outlinewidth": 0,
              "ticks": ""
             }
            },
            "type": "scatter"
           }
          ],
          "scatter3d": [
           {
            "line": {
             "colorbar": {
              "outlinewidth": 0,
              "ticks": ""
             }
            },
            "marker": {
             "colorbar": {
              "outlinewidth": 0,
              "ticks": ""
             }
            },
            "type": "scatter3d"
           }
          ],
          "scattercarpet": [
           {
            "marker": {
             "colorbar": {
              "outlinewidth": 0,
              "ticks": ""
             }
            },
            "type": "scattercarpet"
           }
          ],
          "scattergeo": [
           {
            "marker": {
             "colorbar": {
              "outlinewidth": 0,
              "ticks": ""
             }
            },
            "type": "scattergeo"
           }
          ],
          "scattergl": [
           {
            "marker": {
             "colorbar": {
              "outlinewidth": 0,
              "ticks": ""
             }
            },
            "type": "scattergl"
           }
          ],
          "scattermapbox": [
           {
            "marker": {
             "colorbar": {
              "outlinewidth": 0,
              "ticks": ""
             }
            },
            "type": "scattermapbox"
           }
          ],
          "scatterpolar": [
           {
            "marker": {
             "colorbar": {
              "outlinewidth": 0,
              "ticks": ""
             }
            },
            "type": "scatterpolar"
           }
          ],
          "scatterpolargl": [
           {
            "marker": {
             "colorbar": {
              "outlinewidth": 0,
              "ticks": ""
             }
            },
            "type": "scatterpolargl"
           }
          ],
          "scatterternary": [
           {
            "marker": {
             "colorbar": {
              "outlinewidth": 0,
              "ticks": ""
             }
            },
            "type": "scatterternary"
           }
          ],
          "surface": [
           {
            "colorbar": {
             "outlinewidth": 0,
             "ticks": ""
            },
            "colorscale": [
             [
              0,
              "#0d0887"
             ],
             [
              0.1111111111111111,
              "#46039f"
             ],
             [
              0.2222222222222222,
              "#7201a8"
             ],
             [
              0.3333333333333333,
              "#9c179e"
             ],
             [
              0.4444444444444444,
              "#bd3786"
             ],
             [
              0.5555555555555556,
              "#d8576b"
             ],
             [
              0.6666666666666666,
              "#ed7953"
             ],
             [
              0.7777777777777778,
              "#fb9f3a"
             ],
             [
              0.8888888888888888,
              "#fdca26"
             ],
             [
              1,
              "#f0f921"
             ]
            ],
            "type": "surface"
           }
          ],
          "table": [
           {
            "cells": {
             "fill": {
              "color": "#EBF0F8"
             },
             "line": {
              "color": "white"
             }
            },
            "header": {
             "fill": {
              "color": "#C8D4E3"
             },
             "line": {
              "color": "white"
             }
            },
            "type": "table"
           }
          ]
         },
         "layout": {
          "annotationdefaults": {
           "arrowcolor": "#2a3f5f",
           "arrowhead": 0,
           "arrowwidth": 1
          },
          "coloraxis": {
           "colorbar": {
            "outlinewidth": 0,
            "ticks": ""
           }
          },
          "colorscale": {
           "diverging": [
            [
             0,
             "#8e0152"
            ],
            [
             0.1,
             "#c51b7d"
            ],
            [
             0.2,
             "#de77ae"
            ],
            [
             0.3,
             "#f1b6da"
            ],
            [
             0.4,
             "#fde0ef"
            ],
            [
             0.5,
             "#f7f7f7"
            ],
            [
             0.6,
             "#e6f5d0"
            ],
            [
             0.7,
             "#b8e186"
            ],
            [
             0.8,
             "#7fbc41"
            ],
            [
             0.9,
             "#4d9221"
            ],
            [
             1,
             "#276419"
            ]
           ],
           "sequential": [
            [
             0,
             "#0d0887"
            ],
            [
             0.1111111111111111,
             "#46039f"
            ],
            [
             0.2222222222222222,
             "#7201a8"
            ],
            [
             0.3333333333333333,
             "#9c179e"
            ],
            [
             0.4444444444444444,
             "#bd3786"
            ],
            [
             0.5555555555555556,
             "#d8576b"
            ],
            [
             0.6666666666666666,
             "#ed7953"
            ],
            [
             0.7777777777777778,
             "#fb9f3a"
            ],
            [
             0.8888888888888888,
             "#fdca26"
            ],
            [
             1,
             "#f0f921"
            ]
           ],
           "sequentialminus": [
            [
             0,
             "#0d0887"
            ],
            [
             0.1111111111111111,
             "#46039f"
            ],
            [
             0.2222222222222222,
             "#7201a8"
            ],
            [
             0.3333333333333333,
             "#9c179e"
            ],
            [
             0.4444444444444444,
             "#bd3786"
            ],
            [
             0.5555555555555556,
             "#d8576b"
            ],
            [
             0.6666666666666666,
             "#ed7953"
            ],
            [
             0.7777777777777778,
             "#fb9f3a"
            ],
            [
             0.8888888888888888,
             "#fdca26"
            ],
            [
             1,
             "#f0f921"
            ]
           ]
          },
          "colorway": [
           "#636efa",
           "#EF553B",
           "#00cc96",
           "#ab63fa",
           "#FFA15A",
           "#19d3f3",
           "#FF6692",
           "#B6E880",
           "#FF97FF",
           "#FECB52"
          ],
          "font": {
           "color": "#2a3f5f"
          },
          "geo": {
           "bgcolor": "white",
           "lakecolor": "white",
           "landcolor": "#E5ECF6",
           "showlakes": true,
           "showland": true,
           "subunitcolor": "white"
          },
          "hoverlabel": {
           "align": "left"
          },
          "hovermode": "closest",
          "mapbox": {
           "style": "light"
          },
          "paper_bgcolor": "white",
          "plot_bgcolor": "#E5ECF6",
          "polar": {
           "angularaxis": {
            "gridcolor": "white",
            "linecolor": "white",
            "ticks": ""
           },
           "bgcolor": "#E5ECF6",
           "radialaxis": {
            "gridcolor": "white",
            "linecolor": "white",
            "ticks": ""
           }
          },
          "scene": {
           "xaxis": {
            "backgroundcolor": "#E5ECF6",
            "gridcolor": "white",
            "gridwidth": 2,
            "linecolor": "white",
            "showbackground": true,
            "ticks": "",
            "zerolinecolor": "white"
           },
           "yaxis": {
            "backgroundcolor": "#E5ECF6",
            "gridcolor": "white",
            "gridwidth": 2,
            "linecolor": "white",
            "showbackground": true,
            "ticks": "",
            "zerolinecolor": "white"
           },
           "zaxis": {
            "backgroundcolor": "#E5ECF6",
            "gridcolor": "white",
            "gridwidth": 2,
            "linecolor": "white",
            "showbackground": true,
            "ticks": "",
            "zerolinecolor": "white"
           }
          },
          "shapedefaults": {
           "line": {
            "color": "#2a3f5f"
           }
          },
          "ternary": {
           "aaxis": {
            "gridcolor": "white",
            "linecolor": "white",
            "ticks": ""
           },
           "baxis": {
            "gridcolor": "white",
            "linecolor": "white",
            "ticks": ""
           },
           "bgcolor": "#E5ECF6",
           "caxis": {
            "gridcolor": "white",
            "linecolor": "white",
            "ticks": ""
           }
          },
          "title": {
           "x": 0.05
          },
          "xaxis": {
           "automargin": true,
           "gridcolor": "white",
           "linecolor": "white",
           "ticks": "",
           "title": {
            "standoff": 15
           },
           "zerolinecolor": "white",
           "zerolinewidth": 2
          },
          "yaxis": {
           "automargin": true,
           "gridcolor": "white",
           "linecolor": "white",
           "ticks": "",
           "title": {
            "standoff": 15
           },
           "zerolinecolor": "white",
           "zerolinewidth": 2
          }
         }
        },
        "title": {
         "text": "Percentage of Frecuency per Year"
        }
       }
      },
      "text/html": [
       "<div>                            <div id=\"362cde46-6b5f-4e75-94fb-4ead3e01853f\" class=\"plotly-graph-div\" style=\"height:525px; width:100%;\"></div>            <script type=\"text/javascript\">                require([\"plotly\"], function(Plotly) {                    window.PLOTLYENV=window.PLOTLYENV || {};                                    if (document.getElementById(\"362cde46-6b5f-4e75-94fb-4ead3e01853f\")) {                    Plotly.newPlot(                        \"362cde46-6b5f-4e75-94fb-4ead3e01853f\",                        [{\"domain\": {\"x\": [0.0, 1.0], \"y\": [0.0, 1.0]}, \"hovertemplate\": \"Year=%{label}<br>Frequency=%{value}<extra></extra>\", \"labels\": [2012, 2013, 2014, 2015, 2016, 2017, 2018], \"legendgroup\": \"\", \"name\": \"\", \"showlegend\": true, \"type\": \"pie\", \"values\": [1920, 1689, 1309, 1848, 1645, 1550, 1964]}],                        {\"legend\": {\"tracegroupgap\": 0}, \"piecolorway\": [\"#fcfdbf\", \"#feca8d\", \"#fd9668\", \"#f1605d\", \"#cd4071\", \"#9e2f7f\", \"#721f81\", \"#440f76\", \"#180f3d\", \"#000004\"], \"template\": {\"data\": {\"bar\": [{\"error_x\": {\"color\": \"#2a3f5f\"}, \"error_y\": {\"color\": \"#2a3f5f\"}, \"marker\": {\"line\": {\"color\": \"#E5ECF6\", \"width\": 0.5}}, \"type\": \"bar\"}], \"barpolar\": [{\"marker\": {\"line\": {\"color\": \"#E5ECF6\", \"width\": 0.5}}, \"type\": \"barpolar\"}], \"carpet\": [{\"aaxis\": {\"endlinecolor\": \"#2a3f5f\", \"gridcolor\": \"white\", \"linecolor\": \"white\", \"minorgridcolor\": \"white\", \"startlinecolor\": \"#2a3f5f\"}, \"baxis\": {\"endlinecolor\": \"#2a3f5f\", \"gridcolor\": \"white\", \"linecolor\": \"white\", \"minorgridcolor\": \"white\", \"startlinecolor\": \"#2a3f5f\"}, \"type\": \"carpet\"}], \"choropleth\": [{\"colorbar\": {\"outlinewidth\": 0, \"ticks\": \"\"}, \"type\": \"choropleth\"}], \"contour\": [{\"colorbar\": {\"outlinewidth\": 0, \"ticks\": \"\"}, \"colorscale\": [[0.0, \"#0d0887\"], [0.1111111111111111, \"#46039f\"], [0.2222222222222222, \"#7201a8\"], [0.3333333333333333, \"#9c179e\"], [0.4444444444444444, \"#bd3786\"], [0.5555555555555556, \"#d8576b\"], [0.6666666666666666, \"#ed7953\"], [0.7777777777777778, \"#fb9f3a\"], [0.8888888888888888, \"#fdca26\"], [1.0, \"#f0f921\"]], \"type\": \"contour\"}], \"contourcarpet\": [{\"colorbar\": {\"outlinewidth\": 0, \"ticks\": \"\"}, \"type\": \"contourcarpet\"}], \"heatmap\": [{\"colorbar\": {\"outlinewidth\": 0, \"ticks\": \"\"}, \"colorscale\": [[0.0, \"#0d0887\"], [0.1111111111111111, \"#46039f\"], [0.2222222222222222, \"#7201a8\"], [0.3333333333333333, \"#9c179e\"], [0.4444444444444444, \"#bd3786\"], [0.5555555555555556, \"#d8576b\"], [0.6666666666666666, \"#ed7953\"], [0.7777777777777778, \"#fb9f3a\"], [0.8888888888888888, \"#fdca26\"], [1.0, \"#f0f921\"]], \"type\": \"heatmap\"}], \"heatmapgl\": [{\"colorbar\": {\"outlinewidth\": 0, \"ticks\": \"\"}, \"colorscale\": [[0.0, \"#0d0887\"], [0.1111111111111111, \"#46039f\"], [0.2222222222222222, \"#7201a8\"], [0.3333333333333333, \"#9c179e\"], [0.4444444444444444, \"#bd3786\"], [0.5555555555555556, \"#d8576b\"], [0.6666666666666666, \"#ed7953\"], [0.7777777777777778, \"#fb9f3a\"], [0.8888888888888888, \"#fdca26\"], [1.0, \"#f0f921\"]], \"type\": \"heatmapgl\"}], \"histogram\": [{\"marker\": {\"colorbar\": {\"outlinewidth\": 0, \"ticks\": \"\"}}, \"type\": \"histogram\"}], \"histogram2d\": [{\"colorbar\": {\"outlinewidth\": 0, \"ticks\": \"\"}, \"colorscale\": [[0.0, \"#0d0887\"], [0.1111111111111111, \"#46039f\"], [0.2222222222222222, \"#7201a8\"], [0.3333333333333333, \"#9c179e\"], [0.4444444444444444, \"#bd3786\"], [0.5555555555555556, \"#d8576b\"], [0.6666666666666666, \"#ed7953\"], [0.7777777777777778, \"#fb9f3a\"], [0.8888888888888888, \"#fdca26\"], [1.0, \"#f0f921\"]], \"type\": \"histogram2d\"}], \"histogram2dcontour\": [{\"colorbar\": {\"outlinewidth\": 0, \"ticks\": \"\"}, \"colorscale\": [[0.0, \"#0d0887\"], [0.1111111111111111, \"#46039f\"], [0.2222222222222222, \"#7201a8\"], [0.3333333333333333, \"#9c179e\"], [0.4444444444444444, \"#bd3786\"], [0.5555555555555556, \"#d8576b\"], [0.6666666666666666, \"#ed7953\"], [0.7777777777777778, \"#fb9f3a\"], [0.8888888888888888, \"#fdca26\"], [1.0, \"#f0f921\"]], \"type\": \"histogram2dcontour\"}], \"mesh3d\": [{\"colorbar\": {\"outlinewidth\": 0, \"ticks\": \"\"}, \"type\": \"mesh3d\"}], \"parcoords\": [{\"line\": {\"colorbar\": {\"outlinewidth\": 0, \"ticks\": \"\"}}, \"type\": \"parcoords\"}], \"pie\": [{\"automargin\": true, \"type\": \"pie\"}], \"scatter\": [{\"marker\": {\"colorbar\": {\"outlinewidth\": 0, \"ticks\": \"\"}}, \"type\": \"scatter\"}], \"scatter3d\": [{\"line\": {\"colorbar\": {\"outlinewidth\": 0, \"ticks\": \"\"}}, \"marker\": {\"colorbar\": {\"outlinewidth\": 0, \"ticks\": \"\"}}, \"type\": \"scatter3d\"}], \"scattercarpet\": [{\"marker\": {\"colorbar\": {\"outlinewidth\": 0, \"ticks\": \"\"}}, \"type\": \"scattercarpet\"}], \"scattergeo\": [{\"marker\": {\"colorbar\": {\"outlinewidth\": 0, \"ticks\": \"\"}}, \"type\": \"scattergeo\"}], \"scattergl\": [{\"marker\": {\"colorbar\": {\"outlinewidth\": 0, \"ticks\": \"\"}}, \"type\": \"scattergl\"}], \"scattermapbox\": [{\"marker\": {\"colorbar\": {\"outlinewidth\": 0, \"ticks\": \"\"}}, \"type\": \"scattermapbox\"}], \"scatterpolar\": [{\"marker\": {\"colorbar\": {\"outlinewidth\": 0, \"ticks\": \"\"}}, \"type\": \"scatterpolar\"}], \"scatterpolargl\": [{\"marker\": {\"colorbar\": {\"outlinewidth\": 0, \"ticks\": \"\"}}, \"type\": \"scatterpolargl\"}], \"scatterternary\": [{\"marker\": {\"colorbar\": {\"outlinewidth\": 0, \"ticks\": \"\"}}, \"type\": \"scatterternary\"}], \"surface\": [{\"colorbar\": {\"outlinewidth\": 0, \"ticks\": \"\"}, \"colorscale\": [[0.0, \"#0d0887\"], [0.1111111111111111, \"#46039f\"], [0.2222222222222222, \"#7201a8\"], [0.3333333333333333, \"#9c179e\"], [0.4444444444444444, \"#bd3786\"], [0.5555555555555556, \"#d8576b\"], [0.6666666666666666, \"#ed7953\"], [0.7777777777777778, \"#fb9f3a\"], [0.8888888888888888, \"#fdca26\"], [1.0, \"#f0f921\"]], \"type\": \"surface\"}], \"table\": [{\"cells\": {\"fill\": {\"color\": \"#EBF0F8\"}, \"line\": {\"color\": \"white\"}}, \"header\": {\"fill\": {\"color\": \"#C8D4E3\"}, \"line\": {\"color\": \"white\"}}, \"type\": \"table\"}]}, \"layout\": {\"annotationdefaults\": {\"arrowcolor\": \"#2a3f5f\", \"arrowhead\": 0, \"arrowwidth\": 1}, \"coloraxis\": {\"colorbar\": {\"outlinewidth\": 0, \"ticks\": \"\"}}, \"colorscale\": {\"diverging\": [[0, \"#8e0152\"], [0.1, \"#c51b7d\"], [0.2, \"#de77ae\"], [0.3, \"#f1b6da\"], [0.4, \"#fde0ef\"], [0.5, \"#f7f7f7\"], [0.6, \"#e6f5d0\"], [0.7, \"#b8e186\"], [0.8, \"#7fbc41\"], [0.9, \"#4d9221\"], [1, \"#276419\"]], \"sequential\": [[0.0, \"#0d0887\"], [0.1111111111111111, \"#46039f\"], [0.2222222222222222, \"#7201a8\"], [0.3333333333333333, \"#9c179e\"], [0.4444444444444444, \"#bd3786\"], [0.5555555555555556, \"#d8576b\"], [0.6666666666666666, \"#ed7953\"], [0.7777777777777778, \"#fb9f3a\"], [0.8888888888888888, \"#fdca26\"], [1.0, \"#f0f921\"]], \"sequentialminus\": [[0.0, \"#0d0887\"], [0.1111111111111111, \"#46039f\"], [0.2222222222222222, \"#7201a8\"], [0.3333333333333333, \"#9c179e\"], [0.4444444444444444, \"#bd3786\"], [0.5555555555555556, \"#d8576b\"], [0.6666666666666666, \"#ed7953\"], [0.7777777777777778, \"#fb9f3a\"], [0.8888888888888888, \"#fdca26\"], [1.0, \"#f0f921\"]]}, \"colorway\": [\"#636efa\", \"#EF553B\", \"#00cc96\", \"#ab63fa\", \"#FFA15A\", \"#19d3f3\", \"#FF6692\", \"#B6E880\", \"#FF97FF\", \"#FECB52\"], \"font\": {\"color\": \"#2a3f5f\"}, \"geo\": {\"bgcolor\": \"white\", \"lakecolor\": \"white\", \"landcolor\": \"#E5ECF6\", \"showlakes\": true, \"showland\": true, \"subunitcolor\": \"white\"}, \"hoverlabel\": {\"align\": \"left\"}, \"hovermode\": \"closest\", \"mapbox\": {\"style\": \"light\"}, \"paper_bgcolor\": \"white\", \"plot_bgcolor\": \"#E5ECF6\", \"polar\": {\"angularaxis\": {\"gridcolor\": \"white\", \"linecolor\": \"white\", \"ticks\": \"\"}, \"bgcolor\": \"#E5ECF6\", \"radialaxis\": {\"gridcolor\": \"white\", \"linecolor\": \"white\", \"ticks\": \"\"}}, \"scene\": {\"xaxis\": {\"backgroundcolor\": \"#E5ECF6\", \"gridcolor\": \"white\", \"gridwidth\": 2, \"linecolor\": \"white\", \"showbackground\": true, \"ticks\": \"\", \"zerolinecolor\": \"white\"}, \"yaxis\": {\"backgroundcolor\": \"#E5ECF6\", \"gridcolor\": \"white\", \"gridwidth\": 2, \"linecolor\": \"white\", \"showbackground\": true, \"ticks\": \"\", \"zerolinecolor\": \"white\"}, \"zaxis\": {\"backgroundcolor\": \"#E5ECF6\", \"gridcolor\": \"white\", \"gridwidth\": 2, \"linecolor\": \"white\", \"showbackground\": true, \"ticks\": \"\", \"zerolinecolor\": \"white\"}}, \"shapedefaults\": {\"line\": {\"color\": \"#2a3f5f\"}}, \"ternary\": {\"aaxis\": {\"gridcolor\": \"white\", \"linecolor\": \"white\", \"ticks\": \"\"}, \"baxis\": {\"gridcolor\": \"white\", \"linecolor\": \"white\", \"ticks\": \"\"}, \"bgcolor\": \"#E5ECF6\", \"caxis\": {\"gridcolor\": \"white\", \"linecolor\": \"white\", \"ticks\": \"\"}}, \"title\": {\"x\": 0.05}, \"xaxis\": {\"automargin\": true, \"gridcolor\": \"white\", \"linecolor\": \"white\", \"ticks\": \"\", \"title\": {\"standoff\": 15}, \"zerolinecolor\": \"white\", \"zerolinewidth\": 2}, \"yaxis\": {\"automargin\": true, \"gridcolor\": \"white\", \"linecolor\": \"white\", \"ticks\": \"\", \"title\": {\"standoff\": 15}, \"zerolinecolor\": \"white\", \"zerolinewidth\": 2}}}, \"title\": {\"text\": \"Percentage of Frecuency per Year\"}},                        {\"responsive\": true}                    ).then(function(){\n",
       "                            \n",
       "var gd = document.getElementById('362cde46-6b5f-4e75-94fb-4ead3e01853f');\n",
       "var x = new MutationObserver(function (mutations, observer) {{\n",
       "        var display = window.getComputedStyle(gd).display;\n",
       "        if (!display || display === 'none') {{\n",
       "            console.log([gd, 'removed!']);\n",
       "            Plotly.purge(gd);\n",
       "            observer.disconnect();\n",
       "        }}\n",
       "}});\n",
       "\n",
       "// Listen for the removal of the full notebook cells\n",
       "var notebookContainer = gd.closest('#notebook-container');\n",
       "if (notebookContainer) {{\n",
       "    x.observe(notebookContainer, {childList: true});\n",
       "}}\n",
       "\n",
       "// Listen for the clearing of the current output cell\n",
       "var outputEl = gd.closest('.output');\n",
       "if (outputEl) {{\n",
       "    x.observe(outputEl, {childList: true});\n",
       "}}\n",
       "\n",
       "                        })                };                });            </script>        </div>"
      ]
     },
     "metadata": {},
     "output_type": "display_data"
    }
   ],
   "source": [
    "fig = px.pie(year_total,  values='Frequency',\n",
    "             names='Year', color_discrete_sequence=px.colors.sequential.Magma_r,\n",
    "            title='Percentage of Frecuency per Year')\n",
    "fig.show()"
   ]
  },
  {
   "cell_type": "code",
   "execution_count": 111,
   "metadata": {},
   "outputs": [
    {
     "data": {
      "text/html": [
       "<div>\n",
       "<style scoped>\n",
       "    .dataframe tbody tr th:only-of-type {\n",
       "        vertical-align: middle;\n",
       "    }\n",
       "\n",
       "    .dataframe tbody tr th {\n",
       "        vertical-align: top;\n",
       "    }\n",
       "\n",
       "    .dataframe thead th {\n",
       "        text-align: right;\n",
       "    }\n",
       "</style>\n",
       "<table border=\"1\" class=\"dataframe\">\n",
       "  <thead>\n",
       "    <tr style=\"text-align: right;\">\n",
       "      <th></th>\n",
       "      <th>Year</th>\n",
       "      <th>Percent</th>\n",
       "    </tr>\n",
       "  </thead>\n",
       "  <tbody>\n",
       "    <tr>\n",
       "      <th>0</th>\n",
       "      <td>2012</td>\n",
       "      <td>11.74</td>\n",
       "    </tr>\n",
       "    <tr>\n",
       "      <th>23</th>\n",
       "      <td>2013</td>\n",
       "      <td>13.08</td>\n",
       "    </tr>\n",
       "    <tr>\n",
       "      <th>46</th>\n",
       "      <td>2014</td>\n",
       "      <td>13.30</td>\n",
       "    </tr>\n",
       "    <tr>\n",
       "      <th>69</th>\n",
       "      <td>2015</td>\n",
       "      <td>12.92</td>\n",
       "    </tr>\n",
       "    <tr>\n",
       "      <th>92</th>\n",
       "      <td>2016</td>\n",
       "      <td>13.77</td>\n",
       "    </tr>\n",
       "    <tr>\n",
       "      <th>115</th>\n",
       "      <td>2017</td>\n",
       "      <td>19.04</td>\n",
       "    </tr>\n",
       "    <tr>\n",
       "      <th>138</th>\n",
       "      <td>2018</td>\n",
       "      <td>17.78</td>\n",
       "    </tr>\n",
       "  </tbody>\n",
       "</table>\n",
       "</div>"
      ],
      "text/plain": [
       "     Year  Percent\n",
       "0    2012    11.74\n",
       "23   2013    13.08\n",
       "46   2014    13.30\n",
       "69   2015    12.92\n",
       "92   2016    13.77\n",
       "115  2017    19.04\n",
       "138  2018    17.78"
      ]
     },
     "execution_count": 111,
     "metadata": {},
     "output_type": "execute_result"
    }
   ],
   "source": [
    "data= year_total[['Year','Percent']]\n",
    "data"
   ]
  },
  {
   "cell_type": "code",
   "execution_count": 125,
   "metadata": {},
   "outputs": [
    {
     "data": {
      "application/javascript": [
       "/* Put everything inside the global mpl namespace */\n",
       "window.mpl = {};\n",
       "\n",
       "\n",
       "mpl.get_websocket_type = function() {\n",
       "    if (typeof(WebSocket) !== 'undefined') {\n",
       "        return WebSocket;\n",
       "    } else if (typeof(MozWebSocket) !== 'undefined') {\n",
       "        return MozWebSocket;\n",
       "    } else {\n",
       "        alert('Your browser does not have WebSocket support. ' +\n",
       "              'Please try Chrome, Safari or Firefox ≥ 6. ' +\n",
       "              'Firefox 4 and 5 are also supported but you ' +\n",
       "              'have to enable WebSockets in about:config.');\n",
       "    };\n",
       "}\n",
       "\n",
       "mpl.figure = function(figure_id, websocket, ondownload, parent_element) {\n",
       "    this.id = figure_id;\n",
       "\n",
       "    this.ws = websocket;\n",
       "\n",
       "    this.supports_binary = (this.ws.binaryType != undefined);\n",
       "\n",
       "    if (!this.supports_binary) {\n",
       "        var warnings = document.getElementById(\"mpl-warnings\");\n",
       "        if (warnings) {\n",
       "            warnings.style.display = 'block';\n",
       "            warnings.textContent = (\n",
       "                \"This browser does not support binary websocket messages. \" +\n",
       "                    \"Performance may be slow.\");\n",
       "        }\n",
       "    }\n",
       "\n",
       "    this.imageObj = new Image();\n",
       "\n",
       "    this.context = undefined;\n",
       "    this.message = undefined;\n",
       "    this.canvas = undefined;\n",
       "    this.rubberband_canvas = undefined;\n",
       "    this.rubberband_context = undefined;\n",
       "    this.format_dropdown = undefined;\n",
       "\n",
       "    this.image_mode = 'full';\n",
       "\n",
       "    this.root = $('<div/>');\n",
       "    this._root_extra_style(this.root)\n",
       "    this.root.attr('style', 'display: inline-block');\n",
       "\n",
       "    $(parent_element).append(this.root);\n",
       "\n",
       "    this._init_header(this);\n",
       "    this._init_canvas(this);\n",
       "    this._init_toolbar(this);\n",
       "\n",
       "    var fig = this;\n",
       "\n",
       "    this.waiting = false;\n",
       "\n",
       "    this.ws.onopen =  function () {\n",
       "            fig.send_message(\"supports_binary\", {value: fig.supports_binary});\n",
       "            fig.send_message(\"send_image_mode\", {});\n",
       "            if (mpl.ratio != 1) {\n",
       "                fig.send_message(\"set_dpi_ratio\", {'dpi_ratio': mpl.ratio});\n",
       "            }\n",
       "            fig.send_message(\"refresh\", {});\n",
       "        }\n",
       "\n",
       "    this.imageObj.onload = function() {\n",
       "            if (fig.image_mode == 'full') {\n",
       "                // Full images could contain transparency (where diff images\n",
       "                // almost always do), so we need to clear the canvas so that\n",
       "                // there is no ghosting.\n",
       "                fig.context.clearRect(0, 0, fig.canvas.width, fig.canvas.height);\n",
       "            }\n",
       "            fig.context.drawImage(fig.imageObj, 0, 0);\n",
       "        };\n",
       "\n",
       "    this.imageObj.onunload = function() {\n",
       "        fig.ws.close();\n",
       "    }\n",
       "\n",
       "    this.ws.onmessage = this._make_on_message_function(this);\n",
       "\n",
       "    this.ondownload = ondownload;\n",
       "}\n",
       "\n",
       "mpl.figure.prototype._init_header = function() {\n",
       "    var titlebar = $(\n",
       "        '<div class=\"ui-dialog-titlebar ui-widget-header ui-corner-all ' +\n",
       "        'ui-helper-clearfix\"/>');\n",
       "    var titletext = $(\n",
       "        '<div class=\"ui-dialog-title\" style=\"width: 100%; ' +\n",
       "        'text-align: center; padding: 3px;\"/>');\n",
       "    titlebar.append(titletext)\n",
       "    this.root.append(titlebar);\n",
       "    this.header = titletext[0];\n",
       "}\n",
       "\n",
       "\n",
       "\n",
       "mpl.figure.prototype._canvas_extra_style = function(canvas_div) {\n",
       "\n",
       "}\n",
       "\n",
       "\n",
       "mpl.figure.prototype._root_extra_style = function(canvas_div) {\n",
       "\n",
       "}\n",
       "\n",
       "mpl.figure.prototype._init_canvas = function() {\n",
       "    var fig = this;\n",
       "\n",
       "    var canvas_div = $('<div/>');\n",
       "\n",
       "    canvas_div.attr('style', 'position: relative; clear: both; outline: 0');\n",
       "\n",
       "    function canvas_keyboard_event(event) {\n",
       "        return fig.key_event(event, event['data']);\n",
       "    }\n",
       "\n",
       "    canvas_div.keydown('key_press', canvas_keyboard_event);\n",
       "    canvas_div.keyup('key_release', canvas_keyboard_event);\n",
       "    this.canvas_div = canvas_div\n",
       "    this._canvas_extra_style(canvas_div)\n",
       "    this.root.append(canvas_div);\n",
       "\n",
       "    var canvas = $('<canvas/>');\n",
       "    canvas.addClass('mpl-canvas');\n",
       "    canvas.attr('style', \"left: 0; top: 0; z-index: 0; outline: 0\")\n",
       "\n",
       "    this.canvas = canvas[0];\n",
       "    this.context = canvas[0].getContext(\"2d\");\n",
       "\n",
       "    var backingStore = this.context.backingStorePixelRatio ||\n",
       "\tthis.context.webkitBackingStorePixelRatio ||\n",
       "\tthis.context.mozBackingStorePixelRatio ||\n",
       "\tthis.context.msBackingStorePixelRatio ||\n",
       "\tthis.context.oBackingStorePixelRatio ||\n",
       "\tthis.context.backingStorePixelRatio || 1;\n",
       "\n",
       "    mpl.ratio = (window.devicePixelRatio || 1) / backingStore;\n",
       "\n",
       "    var rubberband = $('<canvas/>');\n",
       "    rubberband.attr('style', \"position: absolute; left: 0; top: 0; z-index: 1;\")\n",
       "\n",
       "    var pass_mouse_events = true;\n",
       "\n",
       "    canvas_div.resizable({\n",
       "        start: function(event, ui) {\n",
       "            pass_mouse_events = false;\n",
       "        },\n",
       "        resize: function(event, ui) {\n",
       "            fig.request_resize(ui.size.width, ui.size.height);\n",
       "        },\n",
       "        stop: function(event, ui) {\n",
       "            pass_mouse_events = true;\n",
       "            fig.request_resize(ui.size.width, ui.size.height);\n",
       "        },\n",
       "    });\n",
       "\n",
       "    function mouse_event_fn(event) {\n",
       "        if (pass_mouse_events)\n",
       "            return fig.mouse_event(event, event['data']);\n",
       "    }\n",
       "\n",
       "    rubberband.mousedown('button_press', mouse_event_fn);\n",
       "    rubberband.mouseup('button_release', mouse_event_fn);\n",
       "    // Throttle sequential mouse events to 1 every 20ms.\n",
       "    rubberband.mousemove('motion_notify', mouse_event_fn);\n",
       "\n",
       "    rubberband.mouseenter('figure_enter', mouse_event_fn);\n",
       "    rubberband.mouseleave('figure_leave', mouse_event_fn);\n",
       "\n",
       "    canvas_div.on(\"wheel\", function (event) {\n",
       "        event = event.originalEvent;\n",
       "        event['data'] = 'scroll'\n",
       "        if (event.deltaY < 0) {\n",
       "            event.step = 1;\n",
       "        } else {\n",
       "            event.step = -1;\n",
       "        }\n",
       "        mouse_event_fn(event);\n",
       "    });\n",
       "\n",
       "    canvas_div.append(canvas);\n",
       "    canvas_div.append(rubberband);\n",
       "\n",
       "    this.rubberband = rubberband;\n",
       "    this.rubberband_canvas = rubberband[0];\n",
       "    this.rubberband_context = rubberband[0].getContext(\"2d\");\n",
       "    this.rubberband_context.strokeStyle = \"#000000\";\n",
       "\n",
       "    this._resize_canvas = function(width, height) {\n",
       "        // Keep the size of the canvas, canvas container, and rubber band\n",
       "        // canvas in synch.\n",
       "        canvas_div.css('width', width)\n",
       "        canvas_div.css('height', height)\n",
       "\n",
       "        canvas.attr('width', width * mpl.ratio);\n",
       "        canvas.attr('height', height * mpl.ratio);\n",
       "        canvas.attr('style', 'width: ' + width + 'px; height: ' + height + 'px;');\n",
       "\n",
       "        rubberband.attr('width', width);\n",
       "        rubberband.attr('height', height);\n",
       "    }\n",
       "\n",
       "    // Set the figure to an initial 600x600px, this will subsequently be updated\n",
       "    // upon first draw.\n",
       "    this._resize_canvas(600, 600);\n",
       "\n",
       "    // Disable right mouse context menu.\n",
       "    $(this.rubberband_canvas).bind(\"contextmenu\",function(e){\n",
       "        return false;\n",
       "    });\n",
       "\n",
       "    function set_focus () {\n",
       "        canvas.focus();\n",
       "        canvas_div.focus();\n",
       "    }\n",
       "\n",
       "    window.setTimeout(set_focus, 100);\n",
       "}\n",
       "\n",
       "mpl.figure.prototype._init_toolbar = function() {\n",
       "    var fig = this;\n",
       "\n",
       "    var nav_element = $('<div/>');\n",
       "    nav_element.attr('style', 'width: 100%');\n",
       "    this.root.append(nav_element);\n",
       "\n",
       "    // Define a callback function for later on.\n",
       "    function toolbar_event(event) {\n",
       "        return fig.toolbar_button_onclick(event['data']);\n",
       "    }\n",
       "    function toolbar_mouse_event(event) {\n",
       "        return fig.toolbar_button_onmouseover(event['data']);\n",
       "    }\n",
       "\n",
       "    for(var toolbar_ind in mpl.toolbar_items) {\n",
       "        var name = mpl.toolbar_items[toolbar_ind][0];\n",
       "        var tooltip = mpl.toolbar_items[toolbar_ind][1];\n",
       "        var image = mpl.toolbar_items[toolbar_ind][2];\n",
       "        var method_name = mpl.toolbar_items[toolbar_ind][3];\n",
       "\n",
       "        if (!name) {\n",
       "            // put a spacer in here.\n",
       "            continue;\n",
       "        }\n",
       "        var button = $('<button/>');\n",
       "        button.addClass('ui-button ui-widget ui-state-default ui-corner-all ' +\n",
       "                        'ui-button-icon-only');\n",
       "        button.attr('role', 'button');\n",
       "        button.attr('aria-disabled', 'false');\n",
       "        button.click(method_name, toolbar_event);\n",
       "        button.mouseover(tooltip, toolbar_mouse_event);\n",
       "\n",
       "        var icon_img = $('<span/>');\n",
       "        icon_img.addClass('ui-button-icon-primary ui-icon');\n",
       "        icon_img.addClass(image);\n",
       "        icon_img.addClass('ui-corner-all');\n",
       "\n",
       "        var tooltip_span = $('<span/>');\n",
       "        tooltip_span.addClass('ui-button-text');\n",
       "        tooltip_span.html(tooltip);\n",
       "\n",
       "        button.append(icon_img);\n",
       "        button.append(tooltip_span);\n",
       "\n",
       "        nav_element.append(button);\n",
       "    }\n",
       "\n",
       "    var fmt_picker_span = $('<span/>');\n",
       "\n",
       "    var fmt_picker = $('<select/>');\n",
       "    fmt_picker.addClass('mpl-toolbar-option ui-widget ui-widget-content');\n",
       "    fmt_picker_span.append(fmt_picker);\n",
       "    nav_element.append(fmt_picker_span);\n",
       "    this.format_dropdown = fmt_picker[0];\n",
       "\n",
       "    for (var ind in mpl.extensions) {\n",
       "        var fmt = mpl.extensions[ind];\n",
       "        var option = $(\n",
       "            '<option/>', {selected: fmt === mpl.default_extension}).html(fmt);\n",
       "        fmt_picker.append(option);\n",
       "    }\n",
       "\n",
       "    // Add hover states to the ui-buttons\n",
       "    $( \".ui-button\" ).hover(\n",
       "        function() { $(this).addClass(\"ui-state-hover\");},\n",
       "        function() { $(this).removeClass(\"ui-state-hover\");}\n",
       "    );\n",
       "\n",
       "    var status_bar = $('<span class=\"mpl-message\"/>');\n",
       "    nav_element.append(status_bar);\n",
       "    this.message = status_bar[0];\n",
       "}\n",
       "\n",
       "mpl.figure.prototype.request_resize = function(x_pixels, y_pixels) {\n",
       "    // Request matplotlib to resize the figure. Matplotlib will then trigger a resize in the client,\n",
       "    // which will in turn request a refresh of the image.\n",
       "    this.send_message('resize', {'width': x_pixels, 'height': y_pixels});\n",
       "}\n",
       "\n",
       "mpl.figure.prototype.send_message = function(type, properties) {\n",
       "    properties['type'] = type;\n",
       "    properties['figure_id'] = this.id;\n",
       "    this.ws.send(JSON.stringify(properties));\n",
       "}\n",
       "\n",
       "mpl.figure.prototype.send_draw_message = function() {\n",
       "    if (!this.waiting) {\n",
       "        this.waiting = true;\n",
       "        this.ws.send(JSON.stringify({type: \"draw\", figure_id: this.id}));\n",
       "    }\n",
       "}\n",
       "\n",
       "\n",
       "mpl.figure.prototype.handle_save = function(fig, msg) {\n",
       "    var format_dropdown = fig.format_dropdown;\n",
       "    var format = format_dropdown.options[format_dropdown.selectedIndex].value;\n",
       "    fig.ondownload(fig, format);\n",
       "}\n",
       "\n",
       "\n",
       "mpl.figure.prototype.handle_resize = function(fig, msg) {\n",
       "    var size = msg['size'];\n",
       "    if (size[0] != fig.canvas.width || size[1] != fig.canvas.height) {\n",
       "        fig._resize_canvas(size[0], size[1]);\n",
       "        fig.send_message(\"refresh\", {});\n",
       "    };\n",
       "}\n",
       "\n",
       "mpl.figure.prototype.handle_rubberband = function(fig, msg) {\n",
       "    var x0 = msg['x0'] / mpl.ratio;\n",
       "    var y0 = (fig.canvas.height - msg['y0']) / mpl.ratio;\n",
       "    var x1 = msg['x1'] / mpl.ratio;\n",
       "    var y1 = (fig.canvas.height - msg['y1']) / mpl.ratio;\n",
       "    x0 = Math.floor(x0) + 0.5;\n",
       "    y0 = Math.floor(y0) + 0.5;\n",
       "    x1 = Math.floor(x1) + 0.5;\n",
       "    y1 = Math.floor(y1) + 0.5;\n",
       "    var min_x = Math.min(x0, x1);\n",
       "    var min_y = Math.min(y0, y1);\n",
       "    var width = Math.abs(x1 - x0);\n",
       "    var height = Math.abs(y1 - y0);\n",
       "\n",
       "    fig.rubberband_context.clearRect(\n",
       "        0, 0, fig.canvas.width / mpl.ratio, fig.canvas.height / mpl.ratio);\n",
       "\n",
       "    fig.rubberband_context.strokeRect(min_x, min_y, width, height);\n",
       "}\n",
       "\n",
       "mpl.figure.prototype.handle_figure_label = function(fig, msg) {\n",
       "    // Updates the figure title.\n",
       "    fig.header.textContent = msg['label'];\n",
       "}\n",
       "\n",
       "mpl.figure.prototype.handle_cursor = function(fig, msg) {\n",
       "    var cursor = msg['cursor'];\n",
       "    switch(cursor)\n",
       "    {\n",
       "    case 0:\n",
       "        cursor = 'pointer';\n",
       "        break;\n",
       "    case 1:\n",
       "        cursor = 'default';\n",
       "        break;\n",
       "    case 2:\n",
       "        cursor = 'crosshair';\n",
       "        break;\n",
       "    case 3:\n",
       "        cursor = 'move';\n",
       "        break;\n",
       "    }\n",
       "    fig.rubberband_canvas.style.cursor = cursor;\n",
       "}\n",
       "\n",
       "mpl.figure.prototype.handle_message = function(fig, msg) {\n",
       "    fig.message.textContent = msg['message'];\n",
       "}\n",
       "\n",
       "mpl.figure.prototype.handle_draw = function(fig, msg) {\n",
       "    // Request the server to send over a new figure.\n",
       "    fig.send_draw_message();\n",
       "}\n",
       "\n",
       "mpl.figure.prototype.handle_image_mode = function(fig, msg) {\n",
       "    fig.image_mode = msg['mode'];\n",
       "}\n",
       "\n",
       "mpl.figure.prototype.updated_canvas_event = function() {\n",
       "    // Called whenever the canvas gets updated.\n",
       "    this.send_message(\"ack\", {});\n",
       "}\n",
       "\n",
       "// A function to construct a web socket function for onmessage handling.\n",
       "// Called in the figure constructor.\n",
       "mpl.figure.prototype._make_on_message_function = function(fig) {\n",
       "    return function socket_on_message(evt) {\n",
       "        if (evt.data instanceof Blob) {\n",
       "            /* FIXME: We get \"Resource interpreted as Image but\n",
       "             * transferred with MIME type text/plain:\" errors on\n",
       "             * Chrome.  But how to set the MIME type?  It doesn't seem\n",
       "             * to be part of the websocket stream */\n",
       "            evt.data.type = \"image/png\";\n",
       "\n",
       "            /* Free the memory for the previous frames */\n",
       "            if (fig.imageObj.src) {\n",
       "                (window.URL || window.webkitURL).revokeObjectURL(\n",
       "                    fig.imageObj.src);\n",
       "            }\n",
       "\n",
       "            fig.imageObj.src = (window.URL || window.webkitURL).createObjectURL(\n",
       "                evt.data);\n",
       "            fig.updated_canvas_event();\n",
       "            fig.waiting = false;\n",
       "            return;\n",
       "        }\n",
       "        else if (typeof evt.data === 'string' && evt.data.slice(0, 21) == \"data:image/png;base64\") {\n",
       "            fig.imageObj.src = evt.data;\n",
       "            fig.updated_canvas_event();\n",
       "            fig.waiting = false;\n",
       "            return;\n",
       "        }\n",
       "\n",
       "        var msg = JSON.parse(evt.data);\n",
       "        var msg_type = msg['type'];\n",
       "\n",
       "        // Call the  \"handle_{type}\" callback, which takes\n",
       "        // the figure and JSON message as its only arguments.\n",
       "        try {\n",
       "            var callback = fig[\"handle_\" + msg_type];\n",
       "        } catch (e) {\n",
       "            console.log(\"No handler for the '\" + msg_type + \"' message type: \", msg);\n",
       "            return;\n",
       "        }\n",
       "\n",
       "        if (callback) {\n",
       "            try {\n",
       "                // console.log(\"Handling '\" + msg_type + \"' message: \", msg);\n",
       "                callback(fig, msg);\n",
       "            } catch (e) {\n",
       "                console.log(\"Exception inside the 'handler_\" + msg_type + \"' callback:\", e, e.stack, msg);\n",
       "            }\n",
       "        }\n",
       "    };\n",
       "}\n",
       "\n",
       "// from http://stackoverflow.com/questions/1114465/getting-mouse-location-in-canvas\n",
       "mpl.findpos = function(e) {\n",
       "    //this section is from http://www.quirksmode.org/js/events_properties.html\n",
       "    var targ;\n",
       "    if (!e)\n",
       "        e = window.event;\n",
       "    if (e.target)\n",
       "        targ = e.target;\n",
       "    else if (e.srcElement)\n",
       "        targ = e.srcElement;\n",
       "    if (targ.nodeType == 3) // defeat Safari bug\n",
       "        targ = targ.parentNode;\n",
       "\n",
       "    // jQuery normalizes the pageX and pageY\n",
       "    // pageX,Y are the mouse positions relative to the document\n",
       "    // offset() returns the position of the element relative to the document\n",
       "    var x = e.pageX - $(targ).offset().left;\n",
       "    var y = e.pageY - $(targ).offset().top;\n",
       "\n",
       "    return {\"x\": x, \"y\": y};\n",
       "};\n",
       "\n",
       "/*\n",
       " * return a copy of an object with only non-object keys\n",
       " * we need this to avoid circular references\n",
       " * http://stackoverflow.com/a/24161582/3208463\n",
       " */\n",
       "function simpleKeys (original) {\n",
       "  return Object.keys(original).reduce(function (obj, key) {\n",
       "    if (typeof original[key] !== 'object')\n",
       "        obj[key] = original[key]\n",
       "    return obj;\n",
       "  }, {});\n",
       "}\n",
       "\n",
       "mpl.figure.prototype.mouse_event = function(event, name) {\n",
       "    var canvas_pos = mpl.findpos(event)\n",
       "\n",
       "    if (name === 'button_press')\n",
       "    {\n",
       "        this.canvas.focus();\n",
       "        this.canvas_div.focus();\n",
       "    }\n",
       "\n",
       "    var x = canvas_pos.x * mpl.ratio;\n",
       "    var y = canvas_pos.y * mpl.ratio;\n",
       "\n",
       "    this.send_message(name, {x: x, y: y, button: event.button,\n",
       "                             step: event.step,\n",
       "                             guiEvent: simpleKeys(event)});\n",
       "\n",
       "    /* This prevents the web browser from automatically changing to\n",
       "     * the text insertion cursor when the button is pressed.  We want\n",
       "     * to control all of the cursor setting manually through the\n",
       "     * 'cursor' event from matplotlib */\n",
       "    event.preventDefault();\n",
       "    return false;\n",
       "}\n",
       "\n",
       "mpl.figure.prototype._key_event_extra = function(event, name) {\n",
       "    // Handle any extra behaviour associated with a key event\n",
       "}\n",
       "\n",
       "mpl.figure.prototype.key_event = function(event, name) {\n",
       "\n",
       "    // Prevent repeat events\n",
       "    if (name == 'key_press')\n",
       "    {\n",
       "        if (event.which === this._key)\n",
       "            return;\n",
       "        else\n",
       "            this._key = event.which;\n",
       "    }\n",
       "    if (name == 'key_release')\n",
       "        this._key = null;\n",
       "\n",
       "    var value = '';\n",
       "    if (event.ctrlKey && event.which != 17)\n",
       "        value += \"ctrl+\";\n",
       "    if (event.altKey && event.which != 18)\n",
       "        value += \"alt+\";\n",
       "    if (event.shiftKey && event.which != 16)\n",
       "        value += \"shift+\";\n",
       "\n",
       "    value += 'k';\n",
       "    value += event.which.toString();\n",
       "\n",
       "    this._key_event_extra(event, name);\n",
       "\n",
       "    this.send_message(name, {key: value,\n",
       "                             guiEvent: simpleKeys(event)});\n",
       "    return false;\n",
       "}\n",
       "\n",
       "mpl.figure.prototype.toolbar_button_onclick = function(name) {\n",
       "    if (name == 'download') {\n",
       "        this.handle_save(this, null);\n",
       "    } else {\n",
       "        this.send_message(\"toolbar_button\", {name: name});\n",
       "    }\n",
       "};\n",
       "\n",
       "mpl.figure.prototype.toolbar_button_onmouseover = function(tooltip) {\n",
       "    this.message.textContent = tooltip;\n",
       "};\n",
       "mpl.toolbar_items = [[\"Home\", \"Reset original view\", \"fa fa-home icon-home\", \"home\"], [\"Back\", \"Back to previous view\", \"fa fa-arrow-left icon-arrow-left\", \"back\"], [\"Forward\", \"Forward to next view\", \"fa fa-arrow-right icon-arrow-right\", \"forward\"], [\"\", \"\", \"\", \"\"], [\"Pan\", \"Pan axes with left mouse, zoom with right\", \"fa fa-arrows icon-move\", \"pan\"], [\"Zoom\", \"Zoom to rectangle\", \"fa fa-square-o icon-check-empty\", \"zoom\"], [\"\", \"\", \"\", \"\"], [\"Download\", \"Download plot\", \"fa fa-floppy-o icon-save\", \"download\"]];\n",
       "\n",
       "mpl.extensions = [\"eps\", \"jpeg\", \"pdf\", \"png\", \"ps\", \"raw\", \"svg\", \"tif\"];\n",
       "\n",
       "mpl.default_extension = \"png\";var comm_websocket_adapter = function(comm) {\n",
       "    // Create a \"websocket\"-like object which calls the given IPython comm\n",
       "    // object with the appropriate methods. Currently this is a non binary\n",
       "    // socket, so there is still some room for performance tuning.\n",
       "    var ws = {};\n",
       "\n",
       "    ws.close = function() {\n",
       "        comm.close()\n",
       "    };\n",
       "    ws.send = function(m) {\n",
       "        //console.log('sending', m);\n",
       "        comm.send(m);\n",
       "    };\n",
       "    // Register the callback with on_msg.\n",
       "    comm.on_msg(function(msg) {\n",
       "        //console.log('receiving', msg['content']['data'], msg);\n",
       "        // Pass the mpl event to the overridden (by mpl) onmessage function.\n",
       "        ws.onmessage(msg['content']['data'])\n",
       "    });\n",
       "    return ws;\n",
       "}\n",
       "\n",
       "mpl.mpl_figure_comm = function(comm, msg) {\n",
       "    // This is the function which gets called when the mpl process\n",
       "    // starts-up an IPython Comm through the \"matplotlib\" channel.\n",
       "\n",
       "    var id = msg.content.data.id;\n",
       "    // Get hold of the div created by the display call when the Comm\n",
       "    // socket was opened in Python.\n",
       "    var element = $(\"#\" + id);\n",
       "    var ws_proxy = comm_websocket_adapter(comm)\n",
       "\n",
       "    function ondownload(figure, format) {\n",
       "        window.open(figure.imageObj.src);\n",
       "    }\n",
       "\n",
       "    var fig = new mpl.figure(id, ws_proxy,\n",
       "                           ondownload,\n",
       "                           element.get(0));\n",
       "\n",
       "    // Call onopen now - mpl needs it, as it is assuming we've passed it a real\n",
       "    // web socket which is closed, not our websocket->open comm proxy.\n",
       "    ws_proxy.onopen();\n",
       "\n",
       "    fig.parent_element = element.get(0);\n",
       "    fig.cell_info = mpl.find_output_cell(\"<div id='\" + id + \"'></div>\");\n",
       "    if (!fig.cell_info) {\n",
       "        console.error(\"Failed to find cell for figure\", id, fig);\n",
       "        return;\n",
       "    }\n",
       "\n",
       "    var output_index = fig.cell_info[2]\n",
       "    var cell = fig.cell_info[0];\n",
       "\n",
       "};\n",
       "\n",
       "mpl.figure.prototype.handle_close = function(fig, msg) {\n",
       "    var width = fig.canvas.width/mpl.ratio\n",
       "    fig.root.unbind('remove')\n",
       "\n",
       "    // Update the output cell to use the data from the current canvas.\n",
       "    fig.push_to_output();\n",
       "    var dataURL = fig.canvas.toDataURL();\n",
       "    // Re-enable the keyboard manager in IPython - without this line, in FF,\n",
       "    // the notebook keyboard shortcuts fail.\n",
       "    IPython.keyboard_manager.enable()\n",
       "    $(fig.parent_element).html('<img src=\"' + dataURL + '\" width=\"' + width + '\">');\n",
       "    fig.close_ws(fig, msg);\n",
       "}\n",
       "\n",
       "mpl.figure.prototype.close_ws = function(fig, msg){\n",
       "    fig.send_message('closing', msg);\n",
       "    // fig.ws.close()\n",
       "}\n",
       "\n",
       "mpl.figure.prototype.push_to_output = function(remove_interactive) {\n",
       "    // Turn the data on the canvas into data in the output cell.\n",
       "    var width = this.canvas.width/mpl.ratio\n",
       "    var dataURL = this.canvas.toDataURL();\n",
       "    this.cell_info[1]['text/html'] = '<img src=\"' + dataURL + '\" width=\"' + width + '\">';\n",
       "}\n",
       "\n",
       "mpl.figure.prototype.updated_canvas_event = function() {\n",
       "    // Tell IPython that the notebook contents must change.\n",
       "    IPython.notebook.set_dirty(true);\n",
       "    this.send_message(\"ack\", {});\n",
       "    var fig = this;\n",
       "    // Wait a second, then push the new image to the DOM so\n",
       "    // that it is saved nicely (might be nice to debounce this).\n",
       "    setTimeout(function () { fig.push_to_output() }, 1000);\n",
       "}\n",
       "\n",
       "mpl.figure.prototype._init_toolbar = function() {\n",
       "    var fig = this;\n",
       "\n",
       "    var nav_element = $('<div/>');\n",
       "    nav_element.attr('style', 'width: 100%');\n",
       "    this.root.append(nav_element);\n",
       "\n",
       "    // Define a callback function for later on.\n",
       "    function toolbar_event(event) {\n",
       "        return fig.toolbar_button_onclick(event['data']);\n",
       "    }\n",
       "    function toolbar_mouse_event(event) {\n",
       "        return fig.toolbar_button_onmouseover(event['data']);\n",
       "    }\n",
       "\n",
       "    for(var toolbar_ind in mpl.toolbar_items){\n",
       "        var name = mpl.toolbar_items[toolbar_ind][0];\n",
       "        var tooltip = mpl.toolbar_items[toolbar_ind][1];\n",
       "        var image = mpl.toolbar_items[toolbar_ind][2];\n",
       "        var method_name = mpl.toolbar_items[toolbar_ind][3];\n",
       "\n",
       "        if (!name) { continue; };\n",
       "\n",
       "        var button = $('<button class=\"btn btn-default\" href=\"#\" title=\"' + name + '\"><i class=\"fa ' + image + ' fa-lg\"></i></button>');\n",
       "        button.click(method_name, toolbar_event);\n",
       "        button.mouseover(tooltip, toolbar_mouse_event);\n",
       "        nav_element.append(button);\n",
       "    }\n",
       "\n",
       "    // Add the status bar.\n",
       "    var status_bar = $('<span class=\"mpl-message\" style=\"text-align:right; float: right;\"/>');\n",
       "    nav_element.append(status_bar);\n",
       "    this.message = status_bar[0];\n",
       "\n",
       "    // Add the close button to the window.\n",
       "    var buttongrp = $('<div class=\"btn-group inline pull-right\"></div>');\n",
       "    var button = $('<button class=\"btn btn-mini btn-primary\" href=\"#\" title=\"Stop Interaction\"><i class=\"fa fa-power-off icon-remove icon-large\"></i></button>');\n",
       "    button.click(function (evt) { fig.handle_close(fig, {}); } );\n",
       "    button.mouseover('Stop Interaction', toolbar_mouse_event);\n",
       "    buttongrp.append(button);\n",
       "    var titlebar = this.root.find($('.ui-dialog-titlebar'));\n",
       "    titlebar.prepend(buttongrp);\n",
       "}\n",
       "\n",
       "mpl.figure.prototype._root_extra_style = function(el){\n",
       "    var fig = this\n",
       "    el.on(\"remove\", function(){\n",
       "\tfig.close_ws(fig, {});\n",
       "    });\n",
       "}\n",
       "\n",
       "mpl.figure.prototype._canvas_extra_style = function(el){\n",
       "    // this is important to make the div 'focusable\n",
       "    el.attr('tabindex', 0)\n",
       "    // reach out to IPython and tell the keyboard manager to turn it's self\n",
       "    // off when our div gets focus\n",
       "\n",
       "    // location in version 3\n",
       "    if (IPython.notebook.keyboard_manager) {\n",
       "        IPython.notebook.keyboard_manager.register_events(el);\n",
       "    }\n",
       "    else {\n",
       "        // location in version 2\n",
       "        IPython.keyboard_manager.register_events(el);\n",
       "    }\n",
       "\n",
       "}\n",
       "\n",
       "mpl.figure.prototype._key_event_extra = function(event, name) {\n",
       "    var manager = IPython.notebook.keyboard_manager;\n",
       "    if (!manager)\n",
       "        manager = IPython.keyboard_manager;\n",
       "\n",
       "    // Check for shift+enter\n",
       "    if (event.shiftKey && event.which == 13) {\n",
       "        this.canvas_div.blur();\n",
       "        // select the cell after this one\n",
       "        var index = IPython.notebook.find_cell_index(this.cell_info[0]);\n",
       "        IPython.notebook.select(index + 1);\n",
       "    }\n",
       "}\n",
       "\n",
       "mpl.figure.prototype.handle_save = function(fig, msg) {\n",
       "    fig.ondownload(fig, null);\n",
       "}\n",
       "\n",
       "\n",
       "mpl.find_output_cell = function(html_output) {\n",
       "    // Return the cell and output element which can be found *uniquely* in the notebook.\n",
       "    // Note - this is a bit hacky, but it is done because the \"notebook_saving.Notebook\"\n",
       "    // IPython event is triggered only after the cells have been serialised, which for\n",
       "    // our purposes (turning an active figure into a static one), is too late.\n",
       "    var cells = IPython.notebook.get_cells();\n",
       "    var ncells = cells.length;\n",
       "    for (var i=0; i<ncells; i++) {\n",
       "        var cell = cells[i];\n",
       "        if (cell.cell_type === 'code'){\n",
       "            for (var j=0; j<cell.output_area.outputs.length; j++) {\n",
       "                var data = cell.output_area.outputs[j];\n",
       "                if (data.data) {\n",
       "                    // IPython >= 3 moved mimebundle to data attribute of output\n",
       "                    data = data.data;\n",
       "                }\n",
       "                if (data['text/html'] == html_output) {\n",
       "                    return [cell, data, j];\n",
       "                }\n",
       "            }\n",
       "        }\n",
       "    }\n",
       "}\n",
       "\n",
       "// Register the function which deals with the matplotlib target/channel.\n",
       "// The kernel may be null if the page has been refreshed.\n",
       "if (IPython.notebook.kernel != null) {\n",
       "    IPython.notebook.kernel.comm_manager.register_target('matplotlib', mpl.mpl_figure_comm);\n",
       "}\n"
      ],
      "text/plain": [
       "<IPython.core.display.Javascript object>"
      ]
     },
     "metadata": {},
     "output_type": "display_data"
    },
    {
     "data": {
      "text/html": [
       "<img src=\"data:image/png;base64,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\" width=\"640\">"
      ],
      "text/plain": [
       "<IPython.core.display.HTML object>"
      ]
     },
     "metadata": {},
     "output_type": "display_data"
    },
    {
     "data": {
      "text/plain": [
       "[Text(0.5, 1.0, 'Increasing Percentage per Year')]"
      ]
     },
     "execution_count": 125,
     "metadata": {},
     "output_type": "execute_result"
    }
   ],
   "source": [
    "sns.set_style(\"darkgrid\")\n",
    "sns.lineplot(data=data, x=\"Year\", y=\"Percent\",markers=True,color='lawngreen').set(title='Increasing Percentage per Year')"
   ]
  },
  {
   "cell_type": "code",
   "execution_count": 82,
   "metadata": {},
   "outputs": [],
   "source": [
    "df_reason= df[['Strata','Frequency']]"
   ]
  },
  {
   "cell_type": "code",
   "execution_count": 83,
   "metadata": {},
   "outputs": [
    {
     "data": {
      "text/html": [
       "<div>\n",
       "<style scoped>\n",
       "    .dataframe tbody tr th:only-of-type {\n",
       "        vertical-align: middle;\n",
       "    }\n",
       "\n",
       "    .dataframe tbody tr th {\n",
       "        vertical-align: top;\n",
       "    }\n",
       "\n",
       "    .dataframe thead th {\n",
       "        text-align: right;\n",
       "    }\n",
       "</style>\n",
       "<table border=\"1\" class=\"dataframe\">\n",
       "  <thead>\n",
       "    <tr style=\"text-align: right;\">\n",
       "      <th></th>\n",
       "      <th>Strata</th>\n",
       "      <th>Frequency</th>\n",
       "    </tr>\n",
       "  </thead>\n",
       "  <tbody>\n",
       "    <tr>\n",
       "      <th>0</th>\n",
       "      <td>Total</td>\n",
       "      <td>1920</td>\n",
       "    </tr>\n",
       "    <tr>\n",
       "      <th>1</th>\n",
       "      <td>Sex</td>\n",
       "      <td>561</td>\n",
       "    </tr>\n",
       "    <tr>\n",
       "      <th>2</th>\n",
       "      <td>Sex</td>\n",
       "      <td>1359</td>\n",
       "    </tr>\n",
       "    <tr>\n",
       "      <th>3</th>\n",
       "      <td>Race-Ethnicity</td>\n",
       "      <td>1314</td>\n",
       "    </tr>\n",
       "    <tr>\n",
       "      <th>4</th>\n",
       "      <td>Race-Ethnicity</td>\n",
       "      <td>97</td>\n",
       "    </tr>\n",
       "    <tr>\n",
       "      <th>5</th>\n",
       "      <td>Race-Ethnicity</td>\n",
       "      <td>412</td>\n",
       "    </tr>\n",
       "    <tr>\n",
       "      <th>6</th>\n",
       "      <td>Race-Ethnicity</td>\n",
       "      <td>61</td>\n",
       "    </tr>\n",
       "    <tr>\n",
       "      <th>7</th>\n",
       "      <td>Race-Ethnicity</td>\n",
       "      <td>36</td>\n",
       "    </tr>\n",
       "    <tr>\n",
       "      <th>8</th>\n",
       "      <td>Education</td>\n",
       "      <td>282</td>\n",
       "    </tr>\n",
       "    <tr>\n",
       "      <th>9</th>\n",
       "      <td>Education</td>\n",
       "      <td>337</td>\n",
       "    </tr>\n",
       "    <tr>\n",
       "      <th>10</th>\n",
       "      <td>Education</td>\n",
       "      <td>563</td>\n",
       "    </tr>\n",
       "    <tr>\n",
       "      <th>11</th>\n",
       "      <td>Education</td>\n",
       "      <td>717</td>\n",
       "    </tr>\n",
       "    <tr>\n",
       "      <th>12</th>\n",
       "      <td>Income</td>\n",
       "      <td>642</td>\n",
       "    </tr>\n",
       "    <tr>\n",
       "      <th>13</th>\n",
       "      <td>Income</td>\n",
       "      <td>295</td>\n",
       "    </tr>\n",
       "    <tr>\n",
       "      <th>14</th>\n",
       "      <td>Income</td>\n",
       "      <td>187</td>\n",
       "    </tr>\n",
       "    <tr>\n",
       "      <th>15</th>\n",
       "      <td>Income</td>\n",
       "      <td>250</td>\n",
       "    </tr>\n",
       "    <tr>\n",
       "      <th>16</th>\n",
       "      <td>Income</td>\n",
       "      <td>160</td>\n",
       "    </tr>\n",
       "    <tr>\n",
       "      <th>17</th>\n",
       "      <td>Income</td>\n",
       "      <td>270</td>\n",
       "    </tr>\n",
       "    <tr>\n",
       "      <th>18</th>\n",
       "      <td>Age</td>\n",
       "      <td>219</td>\n",
       "    </tr>\n",
       "    <tr>\n",
       "      <th>19</th>\n",
       "      <td>Age</td>\n",
       "      <td>240</td>\n",
       "    </tr>\n",
       "  </tbody>\n",
       "</table>\n",
       "</div>"
      ],
      "text/plain": [
       "            Strata  Frequency\n",
       "0            Total       1920\n",
       "1              Sex        561\n",
       "2              Sex       1359\n",
       "3   Race-Ethnicity       1314\n",
       "4   Race-Ethnicity         97\n",
       "5   Race-Ethnicity        412\n",
       "6   Race-Ethnicity         61\n",
       "7   Race-Ethnicity         36\n",
       "8        Education        282\n",
       "9        Education        337\n",
       "10       Education        563\n",
       "11       Education        717\n",
       "12          Income        642\n",
       "13          Income        295\n",
       "14          Income        187\n",
       "15          Income        250\n",
       "16          Income        160\n",
       "17          Income        270\n",
       "18             Age        219\n",
       "19             Age        240"
      ]
     },
     "execution_count": 83,
     "metadata": {},
     "output_type": "execute_result"
    }
   ],
   "source": [
    "df_reason.head(20)"
   ]
  },
  {
   "cell_type": "code",
   "execution_count": 101,
   "metadata": {},
   "outputs": [
    {
     "data": {
      "text/html": [
       "<div>\n",
       "<style scoped>\n",
       "    .dataframe tbody tr th:only-of-type {\n",
       "        vertical-align: middle;\n",
       "    }\n",
       "\n",
       "    .dataframe tbody tr th {\n",
       "        vertical-align: top;\n",
       "    }\n",
       "\n",
       "    .dataframe thead th {\n",
       "        text-align: right;\n",
       "    }\n",
       "</style>\n",
       "<table border=\"1\" class=\"dataframe\">\n",
       "  <thead>\n",
       "    <tr style=\"text-align: right;\">\n",
       "      <th></th>\n",
       "      <th>Strata</th>\n",
       "      <th>Frequency</th>\n",
       "    </tr>\n",
       "  </thead>\n",
       "  <tbody>\n",
       "    <tr>\n",
       "      <th>0</th>\n",
       "      <td>Age</td>\n",
       "      <td>11925</td>\n",
       "    </tr>\n",
       "    <tr>\n",
       "      <th>1</th>\n",
       "      <td>Education</td>\n",
       "      <td>11283</td>\n",
       "    </tr>\n",
       "    <tr>\n",
       "      <th>2</th>\n",
       "      <td>Income</td>\n",
       "      <td>10270</td>\n",
       "    </tr>\n",
       "    <tr>\n",
       "      <th>3</th>\n",
       "      <td>Race-Ethnicity</td>\n",
       "      <td>11866</td>\n",
       "    </tr>\n",
       "    <tr>\n",
       "      <th>4</th>\n",
       "      <td>Sex</td>\n",
       "      <td>11925</td>\n",
       "    </tr>\n",
       "  </tbody>\n",
       "</table>\n",
       "</div>"
      ],
      "text/plain": [
       "           Strata  Frequency\n",
       "0             Age      11925\n",
       "1       Education      11283\n",
       "2          Income      10270\n",
       "3  Race-Ethnicity      11866\n",
       "4             Sex      11925"
      ]
     },
     "execution_count": 101,
     "metadata": {},
     "output_type": "execute_result"
    }
   ],
   "source": [
    "a=df_reason.groupby(['Strata']).sum().reset_index()\n",
    "a=a[a.Strata != 'Total']\n",
    "a"
   ]
  },
  {
   "cell_type": "code",
   "execution_count": 106,
   "metadata": {},
   "outputs": [
    {
     "data": {
      "application/vnd.plotly.v1+json": {
       "config": {
        "plotlyServerURL": "https://plot.ly"
       },
       "data": [
        {
         "domain": {
          "x": [
           0,
           1
          ],
          "y": [
           0,
           1
          ]
         },
         "hovertemplate": "Strata=%{label}<br>Frequency=%{value}<extra></extra>",
         "labels": [
          "Age",
          "Education",
          "Income",
          "Race-Ethnicity",
          "Sex"
         ],
         "legendgroup": "",
         "name": "",
         "showlegend": true,
         "type": "pie",
         "values": [
          11925,
          11283,
          10270,
          11866,
          11925
         ]
        }
       ],
       "layout": {
        "legend": {
         "tracegroupgap": 0
        },
        "piecolorway": [
         "rgb(103,0,31)",
         "rgb(178,24,43)",
         "rgb(214,96,77)",
         "rgb(244,165,130)",
         "rgb(253,219,199)",
         "rgb(247,247,247)",
         "rgb(209,229,240)",
         "rgb(146,197,222)",
         "rgb(67,147,195)",
         "rgb(33,102,172)",
         "rgb(5,48,97)"
        ],
        "template": {
         "data": {
          "bar": [
           {
            "error_x": {
             "color": "#2a3f5f"
            },
            "error_y": {
             "color": "#2a3f5f"
            },
            "marker": {
             "line": {
              "color": "#E5ECF6",
              "width": 0.5
             }
            },
            "type": "bar"
           }
          ],
          "barpolar": [
           {
            "marker": {
             "line": {
              "color": "#E5ECF6",
              "width": 0.5
             }
            },
            "type": "barpolar"
           }
          ],
          "carpet": [
           {
            "aaxis": {
             "endlinecolor": "#2a3f5f",
             "gridcolor": "white",
             "linecolor": "white",
             "minorgridcolor": "white",
             "startlinecolor": "#2a3f5f"
            },
            "baxis": {
             "endlinecolor": "#2a3f5f",
             "gridcolor": "white",
             "linecolor": "white",
             "minorgridcolor": "white",
             "startlinecolor": "#2a3f5f"
            },
            "type": "carpet"
           }
          ],
          "choropleth": [
           {
            "colorbar": {
             "outlinewidth": 0,
             "ticks": ""
            },
            "type": "choropleth"
           }
          ],
          "contour": [
           {
            "colorbar": {
             "outlinewidth": 0,
             "ticks": ""
            },
            "colorscale": [
             [
              0,
              "#0d0887"
             ],
             [
              0.1111111111111111,
              "#46039f"
             ],
             [
              0.2222222222222222,
              "#7201a8"
             ],
             [
              0.3333333333333333,
              "#9c179e"
             ],
             [
              0.4444444444444444,
              "#bd3786"
             ],
             [
              0.5555555555555556,
              "#d8576b"
             ],
             [
              0.6666666666666666,
              "#ed7953"
             ],
             [
              0.7777777777777778,
              "#fb9f3a"
             ],
             [
              0.8888888888888888,
              "#fdca26"
             ],
             [
              1,
              "#f0f921"
             ]
            ],
            "type": "contour"
           }
          ],
          "contourcarpet": [
           {
            "colorbar": {
             "outlinewidth": 0,
             "ticks": ""
            },
            "type": "contourcarpet"
           }
          ],
          "heatmap": [
           {
            "colorbar": {
             "outlinewidth": 0,
             "ticks": ""
            },
            "colorscale": [
             [
              0,
              "#0d0887"
             ],
             [
              0.1111111111111111,
              "#46039f"
             ],
             [
              0.2222222222222222,
              "#7201a8"
             ],
             [
              0.3333333333333333,
              "#9c179e"
             ],
             [
              0.4444444444444444,
              "#bd3786"
             ],
             [
              0.5555555555555556,
              "#d8576b"
             ],
             [
              0.6666666666666666,
              "#ed7953"
             ],
             [
              0.7777777777777778,
              "#fb9f3a"
             ],
             [
              0.8888888888888888,
              "#fdca26"
             ],
             [
              1,
              "#f0f921"
             ]
            ],
            "type": "heatmap"
           }
          ],
          "heatmapgl": [
           {
            "colorbar": {
             "outlinewidth": 0,
             "ticks": ""
            },
            "colorscale": [
             [
              0,
              "#0d0887"
             ],
             [
              0.1111111111111111,
              "#46039f"
             ],
             [
              0.2222222222222222,
              "#7201a8"
             ],
             [
              0.3333333333333333,
              "#9c179e"
             ],
             [
              0.4444444444444444,
              "#bd3786"
             ],
             [
              0.5555555555555556,
              "#d8576b"
             ],
             [
              0.6666666666666666,
              "#ed7953"
             ],
             [
              0.7777777777777778,
              "#fb9f3a"
             ],
             [
              0.8888888888888888,
              "#fdca26"
             ],
             [
              1,
              "#f0f921"
             ]
            ],
            "type": "heatmapgl"
           }
          ],
          "histogram": [
           {
            "marker": {
             "colorbar": {
              "outlinewidth": 0,
              "ticks": ""
             }
            },
            "type": "histogram"
           }
          ],
          "histogram2d": [
           {
            "colorbar": {
             "outlinewidth": 0,
             "ticks": ""
            },
            "colorscale": [
             [
              0,
              "#0d0887"
             ],
             [
              0.1111111111111111,
              "#46039f"
             ],
             [
              0.2222222222222222,
              "#7201a8"
             ],
             [
              0.3333333333333333,
              "#9c179e"
             ],
             [
              0.4444444444444444,
              "#bd3786"
             ],
             [
              0.5555555555555556,
              "#d8576b"
             ],
             [
              0.6666666666666666,
              "#ed7953"
             ],
             [
              0.7777777777777778,
              "#fb9f3a"
             ],
             [
              0.8888888888888888,
              "#fdca26"
             ],
             [
              1,
              "#f0f921"
             ]
            ],
            "type": "histogram2d"
           }
          ],
          "histogram2dcontour": [
           {
            "colorbar": {
             "outlinewidth": 0,
             "ticks": ""
            },
            "colorscale": [
             [
              0,
              "#0d0887"
             ],
             [
              0.1111111111111111,
              "#46039f"
             ],
             [
              0.2222222222222222,
              "#7201a8"
             ],
             [
              0.3333333333333333,
              "#9c179e"
             ],
             [
              0.4444444444444444,
              "#bd3786"
             ],
             [
              0.5555555555555556,
              "#d8576b"
             ],
             [
              0.6666666666666666,
              "#ed7953"
             ],
             [
              0.7777777777777778,
              "#fb9f3a"
             ],
             [
              0.8888888888888888,
              "#fdca26"
             ],
             [
              1,
              "#f0f921"
             ]
            ],
            "type": "histogram2dcontour"
           }
          ],
          "mesh3d": [
           {
            "colorbar": {
             "outlinewidth": 0,
             "ticks": ""
            },
            "type": "mesh3d"
           }
          ],
          "parcoords": [
           {
            "line": {
             "colorbar": {
              "outlinewidth": 0,
              "ticks": ""
             }
            },
            "type": "parcoords"
           }
          ],
          "pie": [
           {
            "automargin": true,
            "type": "pie"
           }
          ],
          "scatter": [
           {
            "marker": {
             "colorbar": {
              "outlinewidth": 0,
              "ticks": ""
             }
            },
            "type": "scatter"
           }
          ],
          "scatter3d": [
           {
            "line": {
             "colorbar": {
              "outlinewidth": 0,
              "ticks": ""
             }
            },
            "marker": {
             "colorbar": {
              "outlinewidth": 0,
              "ticks": ""
             }
            },
            "type": "scatter3d"
           }
          ],
          "scattercarpet": [
           {
            "marker": {
             "colorbar": {
              "outlinewidth": 0,
              "ticks": ""
             }
            },
            "type": "scattercarpet"
           }
          ],
          "scattergeo": [
           {
            "marker": {
             "colorbar": {
              "outlinewidth": 0,
              "ticks": ""
             }
            },
            "type": "scattergeo"
           }
          ],
          "scattergl": [
           {
            "marker": {
             "colorbar": {
              "outlinewidth": 0,
              "ticks": ""
             }
            },
            "type": "scattergl"
           }
          ],
          "scattermapbox": [
           {
            "marker": {
             "colorbar": {
              "outlinewidth": 0,
              "ticks": ""
             }
            },
            "type": "scattermapbox"
           }
          ],
          "scatterpolar": [
           {
            "marker": {
             "colorbar": {
              "outlinewidth": 0,
              "ticks": ""
             }
            },
            "type": "scatterpolar"
           }
          ],
          "scatterpolargl": [
           {
            "marker": {
             "colorbar": {
              "outlinewidth": 0,
              "ticks": ""
             }
            },
            "type": "scatterpolargl"
           }
          ],
          "scatterternary": [
           {
            "marker": {
             "colorbar": {
              "outlinewidth": 0,
              "ticks": ""
             }
            },
            "type": "scatterternary"
           }
          ],
          "surface": [
           {
            "colorbar": {
             "outlinewidth": 0,
             "ticks": ""
            },
            "colorscale": [
             [
              0,
              "#0d0887"
             ],
             [
              0.1111111111111111,
              "#46039f"
             ],
             [
              0.2222222222222222,
              "#7201a8"
             ],
             [
              0.3333333333333333,
              "#9c179e"
             ],
             [
              0.4444444444444444,
              "#bd3786"
             ],
             [
              0.5555555555555556,
              "#d8576b"
             ],
             [
              0.6666666666666666,
              "#ed7953"
             ],
             [
              0.7777777777777778,
              "#fb9f3a"
             ],
             [
              0.8888888888888888,
              "#fdca26"
             ],
             [
              1,
              "#f0f921"
             ]
            ],
            "type": "surface"
           }
          ],
          "table": [
           {
            "cells": {
             "fill": {
              "color": "#EBF0F8"
             },
             "line": {
              "color": "white"
             }
            },
            "header": {
             "fill": {
              "color": "#C8D4E3"
             },
             "line": {
              "color": "white"
             }
            },
            "type": "table"
           }
          ]
         },
         "layout": {
          "annotationdefaults": {
           "arrowcolor": "#2a3f5f",
           "arrowhead": 0,
           "arrowwidth": 1
          },
          "coloraxis": {
           "colorbar": {
            "outlinewidth": 0,
            "ticks": ""
           }
          },
          "colorscale": {
           "diverging": [
            [
             0,
             "#8e0152"
            ],
            [
             0.1,
             "#c51b7d"
            ],
            [
             0.2,
             "#de77ae"
            ],
            [
             0.3,
             "#f1b6da"
            ],
            [
             0.4,
             "#fde0ef"
            ],
            [
             0.5,
             "#f7f7f7"
            ],
            [
             0.6,
             "#e6f5d0"
            ],
            [
             0.7,
             "#b8e186"
            ],
            [
             0.8,
             "#7fbc41"
            ],
            [
             0.9,
             "#4d9221"
            ],
            [
             1,
             "#276419"
            ]
           ],
           "sequential": [
            [
             0,
             "#0d0887"
            ],
            [
             0.1111111111111111,
             "#46039f"
            ],
            [
             0.2222222222222222,
             "#7201a8"
            ],
            [
             0.3333333333333333,
             "#9c179e"
            ],
            [
             0.4444444444444444,
             "#bd3786"
            ],
            [
             0.5555555555555556,
             "#d8576b"
            ],
            [
             0.6666666666666666,
             "#ed7953"
            ],
            [
             0.7777777777777778,
             "#fb9f3a"
            ],
            [
             0.8888888888888888,
             "#fdca26"
            ],
            [
             1,
             "#f0f921"
            ]
           ],
           "sequentialminus": [
            [
             0,
             "#0d0887"
            ],
            [
             0.1111111111111111,
             "#46039f"
            ],
            [
             0.2222222222222222,
             "#7201a8"
            ],
            [
             0.3333333333333333,
             "#9c179e"
            ],
            [
             0.4444444444444444,
             "#bd3786"
            ],
            [
             0.5555555555555556,
             "#d8576b"
            ],
            [
             0.6666666666666666,
             "#ed7953"
            ],
            [
             0.7777777777777778,
             "#fb9f3a"
            ],
            [
             0.8888888888888888,
             "#fdca26"
            ],
            [
             1,
             "#f0f921"
            ]
           ]
          },
          "colorway": [
           "#636efa",
           "#EF553B",
           "#00cc96",
           "#ab63fa",
           "#FFA15A",
           "#19d3f3",
           "#FF6692",
           "#B6E880",
           "#FF97FF",
           "#FECB52"
          ],
          "font": {
           "color": "#2a3f5f"
          },
          "geo": {
           "bgcolor": "white",
           "lakecolor": "white",
           "landcolor": "#E5ECF6",
           "showlakes": true,
           "showland": true,
           "subunitcolor": "white"
          },
          "hoverlabel": {
           "align": "left"
          },
          "hovermode": "closest",
          "mapbox": {
           "style": "light"
          },
          "paper_bgcolor": "white",
          "plot_bgcolor": "#E5ECF6",
          "polar": {
           "angularaxis": {
            "gridcolor": "white",
            "linecolor": "white",
            "ticks": ""
           },
           "bgcolor": "#E5ECF6",
           "radialaxis": {
            "gridcolor": "white",
            "linecolor": "white",
            "ticks": ""
           }
          },
          "scene": {
           "xaxis": {
            "backgroundcolor": "#E5ECF6",
            "gridcolor": "white",
            "gridwidth": 2,
            "linecolor": "white",
            "showbackground": true,
            "ticks": "",
            "zerolinecolor": "white"
           },
           "yaxis": {
            "backgroundcolor": "#E5ECF6",
            "gridcolor": "white",
            "gridwidth": 2,
            "linecolor": "white",
            "showbackground": true,
            "ticks": "",
            "zerolinecolor": "white"
           },
           "zaxis": {
            "backgroundcolor": "#E5ECF6",
            "gridcolor": "white",
            "gridwidth": 2,
            "linecolor": "white",
            "showbackground": true,
            "ticks": "",
            "zerolinecolor": "white"
           }
          },
          "shapedefaults": {
           "line": {
            "color": "#2a3f5f"
           }
          },
          "ternary": {
           "aaxis": {
            "gridcolor": "white",
            "linecolor": "white",
            "ticks": ""
           },
           "baxis": {
            "gridcolor": "white",
            "linecolor": "white",
            "ticks": ""
           },
           "bgcolor": "#E5ECF6",
           "caxis": {
            "gridcolor": "white",
            "linecolor": "white",
            "ticks": ""
           }
          },
          "title": {
           "x": 0.05
          },
          "xaxis": {
           "automargin": true,
           "gridcolor": "white",
           "linecolor": "white",
           "ticks": "",
           "title": {
            "standoff": 15
           },
           "zerolinecolor": "white",
           "zerolinewidth": 2
          },
          "yaxis": {
           "automargin": true,
           "gridcolor": "white",
           "linecolor": "white",
           "ticks": "",
           "title": {
            "standoff": 15
           },
           "zerolinecolor": "white",
           "zerolinewidth": 2
          }
         }
        },
        "title": {
         "text": "Reason of Depression"
        }
       }
      },
      "text/html": [
       "<div>                            <div id=\"dce82fb4-4d97-4111-bf12-e4027562c0e6\" class=\"plotly-graph-div\" style=\"height:525px; width:100%;\"></div>            <script type=\"text/javascript\">                require([\"plotly\"], function(Plotly) {                    window.PLOTLYENV=window.PLOTLYENV || {};                                    if (document.getElementById(\"dce82fb4-4d97-4111-bf12-e4027562c0e6\")) {                    Plotly.newPlot(                        \"dce82fb4-4d97-4111-bf12-e4027562c0e6\",                        [{\"domain\": {\"x\": [0.0, 1.0], \"y\": [0.0, 1.0]}, \"hovertemplate\": \"Strata=%{label}<br>Frequency=%{value}<extra></extra>\", \"labels\": [\"Age\", \"Education\", \"Income\", \"Race-Ethnicity\", \"Sex\"], \"legendgroup\": \"\", \"name\": \"\", \"showlegend\": true, \"type\": \"pie\", \"values\": [11925, 11283, 10270, 11866, 11925]}],                        {\"legend\": {\"tracegroupgap\": 0}, \"piecolorway\": [\"rgb(103,0,31)\", \"rgb(178,24,43)\", \"rgb(214,96,77)\", \"rgb(244,165,130)\", \"rgb(253,219,199)\", \"rgb(247,247,247)\", \"rgb(209,229,240)\", \"rgb(146,197,222)\", \"rgb(67,147,195)\", \"rgb(33,102,172)\", \"rgb(5,48,97)\"], \"template\": {\"data\": {\"bar\": [{\"error_x\": {\"color\": \"#2a3f5f\"}, \"error_y\": {\"color\": \"#2a3f5f\"}, \"marker\": {\"line\": {\"color\": \"#E5ECF6\", \"width\": 0.5}}, \"type\": \"bar\"}], \"barpolar\": [{\"marker\": {\"line\": {\"color\": \"#E5ECF6\", \"width\": 0.5}}, \"type\": \"barpolar\"}], \"carpet\": [{\"aaxis\": {\"endlinecolor\": \"#2a3f5f\", \"gridcolor\": \"white\", \"linecolor\": \"white\", \"minorgridcolor\": \"white\", \"startlinecolor\": \"#2a3f5f\"}, \"baxis\": {\"endlinecolor\": \"#2a3f5f\", \"gridcolor\": \"white\", \"linecolor\": \"white\", \"minorgridcolor\": \"white\", \"startlinecolor\": \"#2a3f5f\"}, \"type\": \"carpet\"}], \"choropleth\": [{\"colorbar\": {\"outlinewidth\": 0, \"ticks\": \"\"}, \"type\": \"choropleth\"}], \"contour\": [{\"colorbar\": {\"outlinewidth\": 0, \"ticks\": \"\"}, \"colorscale\": [[0.0, \"#0d0887\"], [0.1111111111111111, \"#46039f\"], [0.2222222222222222, \"#7201a8\"], [0.3333333333333333, \"#9c179e\"], [0.4444444444444444, \"#bd3786\"], [0.5555555555555556, \"#d8576b\"], [0.6666666666666666, \"#ed7953\"], [0.7777777777777778, \"#fb9f3a\"], [0.8888888888888888, \"#fdca26\"], [1.0, \"#f0f921\"]], \"type\": \"contour\"}], \"contourcarpet\": [{\"colorbar\": {\"outlinewidth\": 0, \"ticks\": \"\"}, \"type\": \"contourcarpet\"}], \"heatmap\": [{\"colorbar\": {\"outlinewidth\": 0, \"ticks\": \"\"}, \"colorscale\": [[0.0, \"#0d0887\"], [0.1111111111111111, \"#46039f\"], [0.2222222222222222, \"#7201a8\"], [0.3333333333333333, \"#9c179e\"], [0.4444444444444444, \"#bd3786\"], [0.5555555555555556, \"#d8576b\"], [0.6666666666666666, \"#ed7953\"], [0.7777777777777778, \"#fb9f3a\"], [0.8888888888888888, \"#fdca26\"], [1.0, \"#f0f921\"]], \"type\": \"heatmap\"}], \"heatmapgl\": [{\"colorbar\": {\"outlinewidth\": 0, \"ticks\": \"\"}, \"colorscale\": [[0.0, \"#0d0887\"], [0.1111111111111111, \"#46039f\"], [0.2222222222222222, \"#7201a8\"], [0.3333333333333333, \"#9c179e\"], [0.4444444444444444, \"#bd3786\"], [0.5555555555555556, \"#d8576b\"], [0.6666666666666666, \"#ed7953\"], [0.7777777777777778, \"#fb9f3a\"], [0.8888888888888888, \"#fdca26\"], [1.0, \"#f0f921\"]], \"type\": \"heatmapgl\"}], \"histogram\": [{\"marker\": {\"colorbar\": {\"outlinewidth\": 0, \"ticks\": \"\"}}, \"type\": \"histogram\"}], \"histogram2d\": [{\"colorbar\": {\"outlinewidth\": 0, \"ticks\": \"\"}, \"colorscale\": [[0.0, \"#0d0887\"], [0.1111111111111111, \"#46039f\"], [0.2222222222222222, \"#7201a8\"], [0.3333333333333333, \"#9c179e\"], [0.4444444444444444, \"#bd3786\"], [0.5555555555555556, \"#d8576b\"], [0.6666666666666666, \"#ed7953\"], [0.7777777777777778, \"#fb9f3a\"], [0.8888888888888888, \"#fdca26\"], [1.0, \"#f0f921\"]], \"type\": \"histogram2d\"}], \"histogram2dcontour\": [{\"colorbar\": {\"outlinewidth\": 0, \"ticks\": \"\"}, \"colorscale\": [[0.0, \"#0d0887\"], [0.1111111111111111, \"#46039f\"], [0.2222222222222222, \"#7201a8\"], [0.3333333333333333, \"#9c179e\"], [0.4444444444444444, \"#bd3786\"], [0.5555555555555556, \"#d8576b\"], [0.6666666666666666, \"#ed7953\"], [0.7777777777777778, \"#fb9f3a\"], [0.8888888888888888, \"#fdca26\"], [1.0, \"#f0f921\"]], \"type\": \"histogram2dcontour\"}], \"mesh3d\": [{\"colorbar\": {\"outlinewidth\": 0, \"ticks\": \"\"}, \"type\": \"mesh3d\"}], \"parcoords\": [{\"line\": {\"colorbar\": {\"outlinewidth\": 0, \"ticks\": \"\"}}, \"type\": \"parcoords\"}], \"pie\": [{\"automargin\": true, \"type\": \"pie\"}], \"scatter\": [{\"marker\": {\"colorbar\": {\"outlinewidth\": 0, \"ticks\": \"\"}}, \"type\": \"scatter\"}], \"scatter3d\": [{\"line\": {\"colorbar\": {\"outlinewidth\": 0, \"ticks\": \"\"}}, \"marker\": {\"colorbar\": {\"outlinewidth\": 0, \"ticks\": \"\"}}, \"type\": \"scatter3d\"}], \"scattercarpet\": [{\"marker\": {\"colorbar\": {\"outlinewidth\": 0, \"ticks\": \"\"}}, \"type\": \"scattercarpet\"}], \"scattergeo\": [{\"marker\": {\"colorbar\": {\"outlinewidth\": 0, \"ticks\": \"\"}}, \"type\": \"scattergeo\"}], \"scattergl\": [{\"marker\": {\"colorbar\": {\"outlinewidth\": 0, \"ticks\": \"\"}}, \"type\": \"scattergl\"}], \"scattermapbox\": [{\"marker\": {\"colorbar\": {\"outlinewidth\": 0, \"ticks\": \"\"}}, \"type\": \"scattermapbox\"}], \"scatterpolar\": [{\"marker\": {\"colorbar\": {\"outlinewidth\": 0, \"ticks\": \"\"}}, \"type\": \"scatterpolar\"}], \"scatterpolargl\": [{\"marker\": {\"colorbar\": {\"outlinewidth\": 0, \"ticks\": \"\"}}, \"type\": \"scatterpolargl\"}], \"scatterternary\": [{\"marker\": {\"colorbar\": {\"outlinewidth\": 0, \"ticks\": \"\"}}, \"type\": \"scatterternary\"}], \"surface\": [{\"colorbar\": {\"outlinewidth\": 0, \"ticks\": \"\"}, \"colorscale\": [[0.0, \"#0d0887\"], [0.1111111111111111, \"#46039f\"], [0.2222222222222222, \"#7201a8\"], [0.3333333333333333, \"#9c179e\"], [0.4444444444444444, \"#bd3786\"], [0.5555555555555556, \"#d8576b\"], [0.6666666666666666, \"#ed7953\"], [0.7777777777777778, \"#fb9f3a\"], [0.8888888888888888, \"#fdca26\"], [1.0, \"#f0f921\"]], \"type\": \"surface\"}], \"table\": [{\"cells\": {\"fill\": {\"color\": \"#EBF0F8\"}, \"line\": {\"color\": \"white\"}}, \"header\": {\"fill\": {\"color\": \"#C8D4E3\"}, \"line\": {\"color\": \"white\"}}, \"type\": \"table\"}]}, \"layout\": {\"annotationdefaults\": {\"arrowcolor\": \"#2a3f5f\", \"arrowhead\": 0, \"arrowwidth\": 1}, \"coloraxis\": {\"colorbar\": {\"outlinewidth\": 0, \"ticks\": \"\"}}, \"colorscale\": {\"diverging\": [[0, \"#8e0152\"], [0.1, \"#c51b7d\"], [0.2, \"#de77ae\"], [0.3, \"#f1b6da\"], [0.4, \"#fde0ef\"], [0.5, \"#f7f7f7\"], [0.6, \"#e6f5d0\"], [0.7, \"#b8e186\"], [0.8, \"#7fbc41\"], [0.9, \"#4d9221\"], [1, \"#276419\"]], \"sequential\": [[0.0, \"#0d0887\"], [0.1111111111111111, \"#46039f\"], [0.2222222222222222, \"#7201a8\"], [0.3333333333333333, \"#9c179e\"], [0.4444444444444444, \"#bd3786\"], [0.5555555555555556, \"#d8576b\"], [0.6666666666666666, \"#ed7953\"], [0.7777777777777778, \"#fb9f3a\"], [0.8888888888888888, \"#fdca26\"], [1.0, \"#f0f921\"]], \"sequentialminus\": [[0.0, \"#0d0887\"], [0.1111111111111111, \"#46039f\"], [0.2222222222222222, \"#7201a8\"], [0.3333333333333333, \"#9c179e\"], [0.4444444444444444, \"#bd3786\"], [0.5555555555555556, \"#d8576b\"], [0.6666666666666666, \"#ed7953\"], [0.7777777777777778, \"#fb9f3a\"], [0.8888888888888888, \"#fdca26\"], [1.0, \"#f0f921\"]]}, \"colorway\": [\"#636efa\", \"#EF553B\", \"#00cc96\", \"#ab63fa\", \"#FFA15A\", \"#19d3f3\", \"#FF6692\", \"#B6E880\", \"#FF97FF\", \"#FECB52\"], \"font\": {\"color\": \"#2a3f5f\"}, \"geo\": {\"bgcolor\": \"white\", \"lakecolor\": \"white\", \"landcolor\": \"#E5ECF6\", \"showlakes\": true, \"showland\": true, \"subunitcolor\": \"white\"}, \"hoverlabel\": {\"align\": \"left\"}, \"hovermode\": \"closest\", \"mapbox\": {\"style\": \"light\"}, \"paper_bgcolor\": \"white\", \"plot_bgcolor\": \"#E5ECF6\", \"polar\": {\"angularaxis\": {\"gridcolor\": \"white\", \"linecolor\": \"white\", \"ticks\": \"\"}, \"bgcolor\": \"#E5ECF6\", \"radialaxis\": {\"gridcolor\": \"white\", \"linecolor\": \"white\", \"ticks\": \"\"}}, \"scene\": {\"xaxis\": {\"backgroundcolor\": \"#E5ECF6\", \"gridcolor\": \"white\", \"gridwidth\": 2, \"linecolor\": \"white\", \"showbackground\": true, \"ticks\": \"\", \"zerolinecolor\": \"white\"}, \"yaxis\": {\"backgroundcolor\": \"#E5ECF6\", \"gridcolor\": \"white\", \"gridwidth\": 2, \"linecolor\": \"white\", \"showbackground\": true, \"ticks\": \"\", \"zerolinecolor\": \"white\"}, \"zaxis\": {\"backgroundcolor\": \"#E5ECF6\", \"gridcolor\": \"white\", \"gridwidth\": 2, \"linecolor\": \"white\", \"showbackground\": true, \"ticks\": \"\", \"zerolinecolor\": \"white\"}}, \"shapedefaults\": {\"line\": {\"color\": \"#2a3f5f\"}}, \"ternary\": {\"aaxis\": {\"gridcolor\": \"white\", \"linecolor\": \"white\", \"ticks\": \"\"}, \"baxis\": {\"gridcolor\": \"white\", \"linecolor\": \"white\", \"ticks\": \"\"}, \"bgcolor\": \"#E5ECF6\", \"caxis\": {\"gridcolor\": \"white\", \"linecolor\": \"white\", \"ticks\": \"\"}}, \"title\": {\"x\": 0.05}, \"xaxis\": {\"automargin\": true, \"gridcolor\": \"white\", \"linecolor\": \"white\", \"ticks\": \"\", \"title\": {\"standoff\": 15}, \"zerolinecolor\": \"white\", \"zerolinewidth\": 2}, \"yaxis\": {\"automargin\": true, \"gridcolor\": \"white\", \"linecolor\": \"white\", \"ticks\": \"\", \"title\": {\"standoff\": 15}, \"zerolinecolor\": \"white\", \"zerolinewidth\": 2}}}, \"title\": {\"text\": \"Reason of Depression\"}},                        {\"responsive\": true}                    ).then(function(){\n",
       "                            \n",
       "var gd = document.getElementById('dce82fb4-4d97-4111-bf12-e4027562c0e6');\n",
       "var x = new MutationObserver(function (mutations, observer) {{\n",
       "        var display = window.getComputedStyle(gd).display;\n",
       "        if (!display || display === 'none') {{\n",
       "            console.log([gd, 'removed!']);\n",
       "            Plotly.purge(gd);\n",
       "            observer.disconnect();\n",
       "        }}\n",
       "}});\n",
       "\n",
       "// Listen for the removal of the full notebook cells\n",
       "var notebookContainer = gd.closest('#notebook-container');\n",
       "if (notebookContainer) {{\n",
       "    x.observe(notebookContainer, {childList: true});\n",
       "}}\n",
       "\n",
       "// Listen for the clearing of the current output cell\n",
       "var outputEl = gd.closest('.output');\n",
       "if (outputEl) {{\n",
       "    x.observe(outputEl, {childList: true});\n",
       "}}\n",
       "\n",
       "                        })                };                });            </script>        </div>"
      ]
     },
     "metadata": {},
     "output_type": "display_data"
    }
   ],
   "source": [
    "fig = px.pie(a,values='Frequency',names='Strata',\n",
    "              color_discrete_sequence=px.colors.sequential.RdBu,\n",
    "            title='Reason of Depression')\n",
    "fig.show()\n"
   ]
  }
 ],
 "metadata": {
  "kernelspec": {
   "display_name": "Python 3",
   "language": "python",
   "name": "python3"
  },
  "language_info": {
   "codemirror_mode": {
    "name": "ipython",
    "version": 3
   },
   "file_extension": ".py",
   "mimetype": "text/x-python",
   "name": "python",
   "nbconvert_exporter": "python",
   "pygments_lexer": "ipython3",
   "version": "3.8.3"
  }
 },
 "nbformat": 4,
 "nbformat_minor": 4
}
